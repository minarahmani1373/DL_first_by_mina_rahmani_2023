{
 "cells": [
  {
   "cell_type": "markdown",
   "id": "30bcaa10-abb9-4cf3-99ec-7bbe0d7d0a09",
   "metadata": {},
   "source": [
    "<center><img src=\"picture.jpg\" width=\"600\" height=\"500\" /></center>"
   ]
  },
  {
   "cell_type": "markdown",
   "id": "90a913db-6dc9-42f7-8fb7-d1b3c6ce73c9",
   "metadata": {},
   "source": [
    "<center><img src=\"ml.JPG\" width=\"600\" height=\"600\" /></center>"
   ]
  },
  {
   "cell_type": "markdown",
   "id": "5e208bfb-4bb7-472b-9b47-c4a053fe150b",
   "metadata": {},
   "source": [
    "# Basic Implementation"
   ]
  },
  {
   "cell_type": "markdown",
   "id": "4b3d923c-e483-443c-9eaa-21f1cf70b9d5",
   "metadata": {},
   "source": [
    "# Import Libraries"
   ]
  },
  {
   "cell_type": "code",
   "execution_count": 1,
   "id": "09dd6a61-6d70-4859-8a6b-6306a146012b",
   "metadata": {},
   "outputs": [],
   "source": [
    "import numpy as np\n",
    "import matplotlib.pyplot as plt\n",
    "import random"
   ]
  },
  {
   "cell_type": "markdown",
   "id": "3fbc2adf-f026-4f11-a2ab-d0cd7c00bbda",
   "metadata": {},
   "source": [
    "# Dataset"
   ]
  },
  {
   "cell_type": "markdown",
   "id": "d82d2be9-337b-4d36-bded-a730d89c4a09",
   "metadata": {},
   "source": [
    "<center><img src=\"iris.png\" width=\"600\" height=\"600\" /></center>"
   ]
  },
  {
   "cell_type": "code",
   "execution_count": null,
   "id": "b1a3dc90-db6a-4f88-9e93-71100be5bbc8",
   "metadata": {},
   "outputs": [],
   "source": [
    "from sklearn.datasets import load_iris\n",
    "iris = load_iris()\n",
    "X= iris.data\n",
    "y=iris.target"
   ]
  },
  {
   "cell_type": "code",
   "execution_count": null,
   "id": "28405296-cb0f-479e-93c0-32348461b18a",
   "metadata": {},
   "outputs": [],
   "source": [
    "X"
   ]
  },
  {
   "cell_type": "code",
   "execution_count": null,
   "id": "66521a93-dd0d-4ced-926a-89e3f455901f",
   "metadata": {},
   "outputs": [],
   "source": [
    "y"
   ]
  },
  {
   "cell_type": "code",
   "execution_count": null,
   "id": "69a9e2ef-433f-4272-881a-1cf5da457bd9",
   "metadata": {},
   "outputs": [],
   "source": [
    "X.shape, y.shape"
   ]
  },
  {
   "cell_type": "code",
   "execution_count": null,
   "id": "8c54938d-ef5f-4f65-b238-f5b26397eb43",
   "metadata": {},
   "outputs": [],
   "source": [
    "x_train=X[0:120,:]\n",
    "y_train=y[0:120]\n",
    "\n",
    "x_test=X[120:,:]\n",
    "y_test=y[120:]"
   ]
  },
  {
   "cell_type": "code",
   "execution_count": null,
   "id": "723a7f5d-ef66-494f-8a81-b671632b0648",
   "metadata": {},
   "outputs": [],
   "source": [
    "from sklearn import tree\n",
    "clf = tree.DecisionTreeClassifier()\n",
    "model= clf.fit(x_train, y_train)\n",
    "\n",
    "\n",
    "# from sklearn.svm import SVC\n",
    "# clf = SVC(gamma='auto')\n",
    "# model=clf.fit(x_train,y_train)"
   ]
  },
  {
   "cell_type": "code",
   "execution_count": null,
   "id": "1b338451-11e8-479f-a475-d7ca0f3d18d3",
   "metadata": {},
   "outputs": [],
   "source": [
    "y_pred=model.predict(x_test)\n",
    "y_pred.shape"
   ]
  },
  {
   "cell_type": "code",
   "execution_count": null,
   "id": "f04dc2ae-56dc-456b-a497-0139bd0fa84f",
   "metadata": {},
   "outputs": [],
   "source": [
    "from sklearn.metrics import accuracy_score\n",
    "accuracy_score(y_pred,y_test)"
   ]
  },
  {
   "cell_type": "code",
   "execution_count": null,
   "id": "39726dcf-5399-41ad-b1fb-4e676eb3c8ad",
   "metadata": {},
   "outputs": [],
   "source": [
    "from sklearn.metrics import precision_score\n",
    "precision_score(y_test, y_pred, average='macro')"
   ]
  },
  {
   "cell_type": "code",
   "execution_count": null,
   "id": "85a9931d-4b95-489d-8623-30820a10951e",
   "metadata": {},
   "outputs": [],
   "source": []
  },
  {
   "cell_type": "markdown",
   "id": "e320f1b4-c997-4d1c-93ac-29528aff0720",
   "metadata": {},
   "source": [
    "# Label preparation (To categorical)"
   ]
  },
  {
   "cell_type": "code",
   "execution_count": null,
   "id": "27ec830a-d807-430c-8dc9-0b8a30fc0196",
   "metadata": {
    "scrolled": true
   },
   "outputs": [],
   "source": [
    "y_categorical=np.zeros((150,3))\n",
    "for i in range(150):\n",
    "    y_categorical[i,y[i]]=1\n",
    "y_categorical"
   ]
  },
  {
   "cell_type": "markdown",
   "id": "cf2429bc-8030-491c-a05f-07bf5d6e28d4",
   "metadata": {},
   "source": [
    "# Feature normalization"
   ]
  },
  {
   "cell_type": "markdown",
   "id": "1575c050-64b9-41e5-a670-0752dc99d898",
   "metadata": {},
   "source": [
    "### MinMAX"
   ]
  },
  {
   "cell_type": "markdown",
   "id": "5455e1e2-b6f0-419e-ac7f-427c525271ec",
   "metadata": {},
   "source": [
    "##### 1. Scikit learn"
   ]
  },
  {
   "cell_type": "code",
   "execution_count": null,
   "id": "19a1734e-61fd-4d69-b53b-4235a07488a2",
   "metadata": {},
   "outputs": [],
   "source": [
    "from sklearn.preprocessing import MinMaxScaler\n",
    "\n",
    "scaler = MinMaxScaler()\n",
    "scaler.fit(X)\n",
    "X=scaler.transform(X)\n"
   ]
  },
  {
   "cell_type": "code",
   "execution_count": null,
   "id": "7e63c2d1-3b0b-4c4c-81e6-2668ac4c413d",
   "metadata": {},
   "outputs": [],
   "source": [
    "X"
   ]
  },
  {
   "cell_type": "markdown",
   "id": "e591f04c-3883-43c8-9db7-bc04db6d650b",
   "metadata": {},
   "source": [
    "##### 2. Scratch"
   ]
  },
  {
   "cell_type": "code",
   "execution_count": null,
   "id": "f54b0be9-9fae-429c-859d-5d5617bc1eb8",
   "metadata": {},
   "outputs": [],
   "source": [
    "n_feature=X.shape[1]\n",
    "X_normalized=np.zeros_like(X)\n",
    "\n",
    "for i in range(n_feature):\n",
    "\n",
    "    Min=np.min(X[:,i])\n",
    "    Max=np.max(X[:,i])\n",
    "    \n",
    "    X_normalized[:,i]=(X[:,i]-Min)/(Max-Min)"
   ]
  },
  {
   "cell_type": "markdown",
   "id": "68a117c4-4d1d-4a16-9c5c-e4a15be16d20",
   "metadata": {},
   "source": [
    "### Z Score"
   ]
  },
  {
   "cell_type": "code",
   "execution_count": null,
   "id": "c405b4b0-7826-4c8f-bf0d-0c04759cbb99",
   "metadata": {},
   "outputs": [],
   "source": [
    "n_feature=X.shape[1]\n",
    "X_normalized=np.zeros_like(X)\n",
    "\n",
    "for i in range(n_feature):\n",
    "\n",
    "    Mean=np.mean(X[:,i])\n",
    "    Std=np.std(X[:,i])\n",
    "    \n",
    "    X_normalized[:,i]=(X[:,i]-Mean)/Std\n"
   ]
  },
  {
   "cell_type": "markdown",
   "id": "1dd8812e-c77c-4a9f-92eb-3faac229fe10",
   "metadata": {},
   "source": [
    "# Data Shuffleing"
   ]
  },
  {
   "cell_type": "code",
   "execution_count": null,
   "id": "467ca91d-c761-4629-a906-f9f10d85208b",
   "metadata": {},
   "outputs": [],
   "source": [
    "index_=np.random.permutation(150)\n",
    "index_"
   ]
  },
  {
   "cell_type": "code",
   "execution_count": null,
   "id": "0e28636d-bce6-4262-ba72-7da0916714a2",
   "metadata": {},
   "outputs": [],
   "source": [
    "index_=np.random.permutation(150)\n",
    "\n",
    "x_new=X_normalized[index_]\n",
    "y_new=y_categorical[index_]"
   ]
  },
  {
   "cell_type": "code",
   "execution_count": null,
   "id": "854108b7-5489-4fab-8597-ca6df11005be",
   "metadata": {},
   "outputs": [],
   "source": [
    "y_new"
   ]
  },
  {
   "cell_type": "code",
   "execution_count": null,
   "id": "ab508031-45f3-4b3e-9bae-2d48d99c8f73",
   "metadata": {},
   "outputs": [],
   "source": [
    "indexes = np.arange(x_new.shape[0])\n",
    "\n",
    "np.random.shuffle(indexes)\n",
    "train_index = indexes[0: int(0.9 * x_new.shape[0])]\n",
    "test_index = indexes[int(0.9 * x_new.shape[0]):]\n",
    "\n",
    "x_train = x_new[train_index]\n",
    "x_test = x_new[test_index]\n",
    "\n",
    "y_train = y_new[train_index]\n",
    "y_test = y_new[test_index]"
   ]
  },
  {
   "cell_type": "code",
   "execution_count": null,
   "id": "82211a5f-c5ce-490b-ad7a-e151cb839de4",
   "metadata": {},
   "outputs": [],
   "source": [
    "print('X Train shape: ',x_train.shape)\n",
    "print('Y Train shape: ',y_train.shape)\n",
    "print('X Test shape: ',x_test.shape)\n",
    "print('Y Test shape: ',y_test.shape)"
   ]
  },
  {
   "cell_type": "markdown",
   "id": "8b6ff007-0f51-4fc9-ade3-408347d5d810",
   "metadata": {},
   "source": [
    "## Model Training"
   ]
  },
  {
   "cell_type": "code",
   "execution_count": null,
   "id": "c7420595-b348-49ed-9f32-d65dd1738657",
   "metadata": {},
   "outputs": [],
   "source": [
    "from sklearn import tree\n",
    "clf = tree.DecisionTreeClassifier()\n",
    "model= clf.fit(x_train, y_train)"
   ]
  },
  {
   "cell_type": "code",
   "execution_count": null,
   "id": "a4589d1f-3b65-489a-8e43-180cd4a49505",
   "metadata": {},
   "outputs": [],
   "source": [
    "y_pred=model.predict(x_test)"
   ]
  },
  {
   "cell_type": "code",
   "execution_count": null,
   "id": "7184af0e-71eb-4fe5-830b-66dc78d6f5fc",
   "metadata": {},
   "outputs": [],
   "source": [
    "from sklearn.metrics import accuracy_score\n",
    "accuracy_score(y_pred,y_test)"
   ]
  },
  {
   "cell_type": "code",
   "execution_count": null,
   "id": "971ec713-2152-4cd5-9649-9448d6cba12f",
   "metadata": {},
   "outputs": [],
   "source": []
  },
  {
   "cell_type": "code",
   "execution_count": null,
   "id": "94bd79a0-5aca-489e-bb17-9703f584fa6b",
   "metadata": {},
   "outputs": [],
   "source": []
  },
  {
   "cell_type": "markdown",
   "id": "ae0d115f-1db9-4211-a4f8-27b58aed2362",
   "metadata": {},
   "source": [
    "# Wildfire Growth Prediction"
   ]
  },
  {
   "cell_type": "markdown",
   "id": "d8b1fa83-1d9a-4196-95a6-5e706d3e96ac",
   "metadata": {},
   "source": [
    "# Load Data"
   ]
  },
  {
   "cell_type": "code",
   "execution_count": 166,
   "id": "20ce539e-27c8-417b-b0a6-2d1d7c485e78",
   "metadata": {},
   "outputs": [],
   "source": [
    "path_input='E:/Deep Course/Weeks/W4/Data/Input_data.npy'\n",
    "path_label='E:/Deep Course/Weeks/W4/Data/Output_data.npy'\n",
    "\n",
    "input_data=np.load(path_input)\n",
    "label_data=np.load(path_label)"
   ]
  },
  {
   "cell_type": "code",
   "execution_count": 167,
   "id": "6dafa974-aabd-4e6f-9f6b-e8b7e7157e17",
   "metadata": {},
   "outputs": [
    {
     "name": "stdout",
     "output_type": "stream",
     "text": [
      "Input Shape:  (18545, 64, 64, 12)\n",
      "Label Shape:  (18545, 64, 64, 1)\n"
     ]
    }
   ],
   "source": [
    "print('Input Shape: ',input_data.shape)\n",
    "print('Label Shape: ',label_data.shape)"
   ]
  },
  {
   "cell_type": "markdown",
   "id": "743d9f9a-9d48-4ea4-ba2c-5fa5e41176ad",
   "metadata": {},
   "source": [
    "# Data Visualization"
   ]
  },
  {
   "cell_type": "markdown",
   "id": "1d067ae8-fa72-4bb4-9de7-d634a89dbbab",
   "metadata": {},
   "source": [
    "### All variables in one subplot"
   ]
  },
  {
   "cell_type": "code",
   "execution_count": 168,
   "id": "1a98d034-d7f5-46dc-acb4-0dbc848886e5",
   "metadata": {},
   "outputs": [
    {
     "data": {
      "text/plain": [
       "14409"
      ]
     },
     "execution_count": 168,
     "metadata": {},
     "output_type": "execute_result"
    }
   ],
   "source": [
    "random_number=np.random.randint(0,input_data.shape[0]-1)\n",
    "random_number"
   ]
  },
  {
   "cell_type": "code",
   "execution_count": 169,
   "id": "eed36caa-4447-445c-bfb5-7c11a4dd3871",
   "metadata": {},
   "outputs": [],
   "source": [
    "name_list=['Elevation','W Direction','W Speed','Min Temp',\n",
    "           'Max Temp','Humidity','Precipitation','Drought',\n",
    "           'Veg','Pop Den','ERC','Previous']\n",
    "\n",
    "plt.figure(figsize=(16,4),dpi=200)\n",
    "\n",
    "for i in range(12):\n",
    "    plt.subplot(1,13,i+1)\n",
    "    plt.imshow(input_data[random_number,:,:,i],cmap='jet')\n",
    "    plt.xticks([])\n",
    "    plt.yticks([])\n",
    "    plt.title(name_list[i])\n",
    "\n",
    "    if i==11:\n",
    "        plt.subplot(1,13,13)\n",
    "        plt.imshow(label_data[random_number,:,:,0],cmap='jet')\n",
    "        plt.xticks([])\n",
    "        plt.yticks([])\n",
    "        plt.title('Label')\n",
    "\n",
    "plt.show()"
   ]
  },
  {
   "cell_type": "markdown",
   "id": "5a32e5b3-6198-45a6-9ed7-ae0e8d8ba004",
   "metadata": {},
   "source": [
    "### Variable Visualization"
   ]
  },
  {
   "cell_type": "code",
   "execution_count": 170,
   "id": "c71ccf73-99c7-4bc8-85ab-642d71549622",
   "metadata": {},
   "outputs": [
    {
     "data": {
      "text/plain": [
       "85"
      ]
     },
     "execution_count": 170,
     "metadata": {},
     "output_type": "execute_result"
    }
   ],
   "source": [
    "random_number=np.random.randint(0,input_data.shape[0]-1)\n",
    "random_number"
   ]
  },
  {
   "cell_type": "code",
   "execution_count": 171,
   "id": "c67faf73-b244-4e00-bbe5-5836268dfddb",
   "metadata": {},
   "outputs": [
    {
     "data": {
      "text/plain": [
       "2"
      ]
     },
     "execution_count": 171,
     "metadata": {},
     "output_type": "execute_result"
    }
   ],
   "source": [
    "band_number=np.random.randint(0,input_data.shape[3]-1)\n",
    "band_number"
   ]
  },
  {
   "cell_type": "code",
   "execution_count": null,
   "id": "dbfd0229-afc3-4375-94b9-61d8f085e351",
   "metadata": {},
   "outputs": [],
   "source": [
    "name_list=['Elevation','W Direction','W Speed','Min Temp',\n",
    "           'Max Temp','Humidity','Precipitation','Drought',\n",
    "           'Veg','Pop Den','ERC','Previous']\n",
    "\n",
    "\n",
    "plt.figure(figsize=(16,4),dpi=200)\n",
    "\n",
    "plt.imshow(input_data[random_number,:,:,band_number],cmap='jet')\n",
    "plt.xticks([])\n",
    "plt.yticks([])\n",
    "plt.title(name_list[band_number])\n",
    "\n",
    "plt.show()"
   ]
  },
  {
   "cell_type": "markdown",
   "id": "1eaefd89-913d-46de-9cce-10dfc262c417",
   "metadata": {},
   "source": [
    "# Data Preprocessing"
   ]
  },
  {
   "cell_type": "markdown",
   "id": "9849b358-7ba2-4dae-a7bf-a0b921cb9977",
   "metadata": {},
   "source": [
    "### Remove pixels with ncertainty"
   ]
  },
  {
   "cell_type": "code",
   "execution_count": 25,
   "id": "35d4f410-f855-4d1e-9bc2-87171f1eccbf",
   "metadata": {},
   "outputs": [
    {
     "data": {
      "text/plain": [
       "395"
      ]
     },
     "execution_count": 25,
     "metadata": {},
     "output_type": "execute_result"
    }
   ],
   "source": [
    "np.sum(input_data[4,:,:,11]==-1)"
   ]
  },
  {
   "cell_type": "code",
   "execution_count": 21,
   "id": "f4b15ecf-eca6-4561-a0c4-7737bfc91281",
   "metadata": {},
   "outputs": [],
   "source": [
    "sample_index=[]\n",
    "\n",
    "for i in range(input_data.shape[0]):\n",
    "\n",
    "    if np.sum(input_data[i,:,:,11]==-1)>0 or np.sum(label_data[i,:,:,0]==-1)>0:\n",
    "        pass\n",
    "    else:\n",
    "        sample_index.append(i)"
   ]
  },
  {
   "cell_type": "code",
   "execution_count": 26,
   "id": "0f6431f2-5cff-4d0a-a009-77c988236811",
   "metadata": {
    "scrolled": true
   },
   "outputs": [
    {
     "data": {
      "text/plain": [
       "10303"
      ]
     },
     "execution_count": 26,
     "metadata": {},
     "output_type": "execute_result"
    }
   ],
   "source": [
    "len(sample_index)"
   ]
  },
  {
   "cell_type": "code",
   "execution_count": 31,
   "id": "8eb39786-3c4e-4957-95eb-621d8222738d",
   "metadata": {},
   "outputs": [],
   "source": [
    "n_samples=len(sample_index)\n",
    "width=input_data.shape[1]\n",
    "height=input_data.shape[2]\n",
    "n_var=input_data.shape[3]\n",
    "\n",
    "X_input=np.zeros((n_samples,width,height,n_var),dtype='float32')\n",
    "y=np.zeros((n_samples,width,height,1),dtype='float32')"
   ]
  },
  {
   "cell_type": "code",
   "execution_count": 32,
   "id": "f01774c3-e7c9-4edc-89a3-4e5cb9ff860c",
   "metadata": {},
   "outputs": [],
   "source": [
    "for i in range(len(sample_index)):\n",
    "    \n",
    "    X_input[i]=input_data[sample_index[i]]\n",
    "    y[i]= label_data[sample_index[i]]  "
   ]
  },
  {
   "cell_type": "code",
   "execution_count": 33,
   "id": "be260a74-7f26-4fd1-9f64-7f1ed16ab8eb",
   "metadata": {},
   "outputs": [],
   "source": [
    "del input_data\n",
    "del label_data"
   ]
  },
  {
   "cell_type": "code",
   "execution_count": 34,
   "id": "c4ab659a-5947-4d5f-8217-4656d1610851",
   "metadata": {},
   "outputs": [
    {
     "data": {
      "text/plain": [
       "(10303, 64, 64, 12)"
      ]
     },
     "execution_count": 34,
     "metadata": {},
     "output_type": "execute_result"
    }
   ],
   "source": [
    "X_input.shape"
   ]
  },
  {
   "cell_type": "code",
   "execution_count": 35,
   "id": "0ba72223-143e-4c6e-8ae1-638e3378571d",
   "metadata": {},
   "outputs": [
    {
     "data": {
      "text/plain": [
       "(10303, 64, 64, 1)"
      ]
     },
     "execution_count": 35,
     "metadata": {},
     "output_type": "execute_result"
    }
   ],
   "source": [
    "y.shape"
   ]
  },
  {
   "cell_type": "markdown",
   "id": "17ed4ebc-a859-4fa7-8097-655dbab1b5d9",
   "metadata": {},
   "source": [
    "### Update labels"
   ]
  },
  {
   "cell_type": "code",
   "execution_count": 36,
   "id": "7a8beb8e-7bb2-47a0-b238-183889146d61",
   "metadata": {},
   "outputs": [],
   "source": [
    "labels=np.zeros((y.shape[0],1),dtype='float32')\n",
    "\n",
    "for i in range(labels.shape[0]):\n",
    "    if np.sum(y[i,:,:,0])>np.sum(X_input[i,:,:,11]):\n",
    "        labels[i,0]=1\n",
    "\n",
    "    "
   ]
  },
  {
   "cell_type": "code",
   "execution_count": 37,
   "id": "1cb4e6a2-4163-4ad0-ab80-148ac8486989",
   "metadata": {},
   "outputs": [
    {
     "name": "stdout",
     "output_type": "stream",
     "text": [
      "Number of 1s: 6303\n",
      "Number of 0s: 4000\n"
     ]
    }
   ],
   "source": [
    "print('Number of 1s:',np.sum(labels==1))\n",
    "print('Number of 0s:',np.sum(labels==0))"
   ]
  },
  {
   "cell_type": "markdown",
   "id": "c58d8cf1-15cb-42ca-b6bc-6db85d1403ed",
   "metadata": {},
   "source": [
    "# Balance Dataset"
   ]
  },
  {
   "cell_type": "code",
   "execution_count": 38,
   "id": "63121773-6549-425f-96f2-709783a81b98",
   "metadata": {},
   "outputs": [
    {
     "data": {
      "text/plain": [
       "4000"
      ]
     },
     "execution_count": 38,
     "metadata": {},
     "output_type": "execute_result"
    }
   ],
   "source": [
    "Min_samles=np.min([np.sum(labels==1),np.sum(labels==0)])\n",
    "Min_samles"
   ]
  },
  {
   "cell_type": "code",
   "execution_count": 39,
   "id": "96e58f1f-0a71-46a0-be22-1c378a4cba93",
   "metadata": {},
   "outputs": [],
   "source": [
    "Data=np.zeros((Min_samles*2,X_input.shape[1],X_input.shape[2],X_input.shape[3]),dtype='float32')\n",
    "\n",
    "c=0\n",
    "for i in range(X_input.shape[0]):\n",
    "    if labels[i,0]==0:\n",
    "        Data[c]=X_input[i]\n",
    "        c=c+1"
   ]
  },
  {
   "cell_type": "code",
   "execution_count": 40,
   "id": "8dd9a965-2472-41ec-b90f-e65fa6b08adb",
   "metadata": {},
   "outputs": [
    {
     "data": {
      "text/plain": [
       "4000"
      ]
     },
     "execution_count": 40,
     "metadata": {},
     "output_type": "execute_result"
    }
   ],
   "source": [
    "c"
   ]
  },
  {
   "cell_type": "code",
   "execution_count": 41,
   "id": "5c28f172-1fd1-4981-acc6-1453ccb081e4",
   "metadata": {},
   "outputs": [],
   "source": [
    "New_labels=np.zeros((Min_samles*2,1),dtype='float32')\n",
    "New_labels[Min_samles:]=1"
   ]
  },
  {
   "cell_type": "code",
   "execution_count": 42,
   "id": "a5c9eb3e-00d3-458f-943c-99f13975bed6",
   "metadata": {},
   "outputs": [
    {
     "data": {
      "text/plain": [
       "array([[0.],\n",
       "       [0.],\n",
       "       [0.],\n",
       "       ...,\n",
       "       [1.],\n",
       "       [1.],\n",
       "       [1.]], dtype=float32)"
      ]
     },
     "execution_count": 42,
     "metadata": {},
     "output_type": "execute_result"
    }
   ],
   "source": [
    "New_labels"
   ]
  },
  {
   "cell_type": "code",
   "execution_count": 43,
   "id": "3b52bc7e-5f1a-4ac2-8af7-c8ecde488299",
   "metadata": {
    "scrolled": true
   },
   "outputs": [
    {
     "data": {
      "text/plain": [
       "[0,\n",
       " 3,\n",
       " 4,\n",
       " 5,\n",
       " 6,\n",
       " 7,\n",
       " 10,\n",
       " 11,\n",
       " 13,\n",
       " 14,\n",
       " 16,\n",
       " 17,\n",
       " 18,\n",
       " 19,\n",
       " 20,\n",
       " 21,\n",
       " 24,\n",
       " 25,\n",
       " 26,\n",
       " 27,\n",
       " 28,\n",
       " 29,\n",
       " 30,\n",
       " 31,\n",
       " 32,\n",
       " 33,\n",
       " 34,\n",
       " 35,\n",
       " 38,\n",
       " 41,\n",
       " 42,\n",
       " 43,\n",
       " 44,\n",
       " 47,\n",
       " 48,\n",
       " 49,\n",
       " 50,\n",
       " 55,\n",
       " 56,\n",
       " 58,\n",
       " 59,\n",
       " 60,\n",
       " 61,\n",
       " 62,\n",
       " 64,\n",
       " 66,\n",
       " 67,\n",
       " 68,\n",
       " 69,\n",
       " 70,\n",
       " 71,\n",
       " 72,\n",
       " 73,\n",
       " 74,\n",
       " 76,\n",
       " 77,\n",
       " 79,\n",
       " 80,\n",
       " 81,\n",
       " 82,\n",
       " 83,\n",
       " 84,\n",
       " 85,\n",
       " 86,\n",
       " 87,\n",
       " 88,\n",
       " 89,\n",
       " 90,\n",
       " 91,\n",
       " 92,\n",
       " 93,\n",
       " 94,\n",
       " 95,\n",
       " 96,\n",
       " 97,\n",
       " 98,\n",
       " 99,\n",
       " 100,\n",
       " 101,\n",
       " 102,\n",
       " 103,\n",
       " 104,\n",
       " 105,\n",
       " 106,\n",
       " 107,\n",
       " 108,\n",
       " 121,\n",
       " 122,\n",
       " 127,\n",
       " 130,\n",
       " 132,\n",
       " 133,\n",
       " 134,\n",
       " 135,\n",
       " 137,\n",
       " 139,\n",
       " 140,\n",
       " 141,\n",
       " 142,\n",
       " 143,\n",
       " 145,\n",
       " 147,\n",
       " 150,\n",
       " 151,\n",
       " 152,\n",
       " 158,\n",
       " 162,\n",
       " 163,\n",
       " 164,\n",
       " 167,\n",
       " 168,\n",
       " 169,\n",
       " 170,\n",
       " 172,\n",
       " 173,\n",
       " 174,\n",
       " 176,\n",
       " 177,\n",
       " 180,\n",
       " 181,\n",
       " 185,\n",
       " 187,\n",
       " 188,\n",
       " 193,\n",
       " 196,\n",
       " 197,\n",
       " 200,\n",
       " 204,\n",
       " 206,\n",
       " 209,\n",
       " 210,\n",
       " 212,\n",
       " 219,\n",
       " 220,\n",
       " 222,\n",
       " 223,\n",
       " 227,\n",
       " 229,\n",
       " 230,\n",
       " 231,\n",
       " 232,\n",
       " 233,\n",
       " 234,\n",
       " 235,\n",
       " 236,\n",
       " 237,\n",
       " 238,\n",
       " 239,\n",
       " 240,\n",
       " 241,\n",
       " 242,\n",
       " 243,\n",
       " 244,\n",
       " 245,\n",
       " 246,\n",
       " 247,\n",
       " 248,\n",
       " 250,\n",
       " 251,\n",
       " 252,\n",
       " 254,\n",
       " 258,\n",
       " 259,\n",
       " 260,\n",
       " 262,\n",
       " 263,\n",
       " 264,\n",
       " 265,\n",
       " 266,\n",
       " 267,\n",
       " 272,\n",
       " 273,\n",
       " 277,\n",
       " 278,\n",
       " 280,\n",
       " 281,\n",
       " 282,\n",
       " 283,\n",
       " 284,\n",
       " 285,\n",
       " 287,\n",
       " 290,\n",
       " 291,\n",
       " 292,\n",
       " 293,\n",
       " 294,\n",
       " 296,\n",
       " 297,\n",
       " 298,\n",
       " 300,\n",
       " 302,\n",
       " 305,\n",
       " 308,\n",
       " 309,\n",
       " 311,\n",
       " 312,\n",
       " 314,\n",
       " 315,\n",
       " 318,\n",
       " 319,\n",
       " 321,\n",
       " 322,\n",
       " 323,\n",
       " 324,\n",
       " 326,\n",
       " 327,\n",
       " 329,\n",
       " 330,\n",
       " 331,\n",
       " 335,\n",
       " 336,\n",
       " 337,\n",
       " 339,\n",
       " 341,\n",
       " 342,\n",
       " 343,\n",
       " 344,\n",
       " 345,\n",
       " 349,\n",
       " 350,\n",
       " 351,\n",
       " 352,\n",
       " 354,\n",
       " 355,\n",
       " 357,\n",
       " 359,\n",
       " 360,\n",
       " 362,\n",
       " 365,\n",
       " 366,\n",
       " 367,\n",
       " 368,\n",
       " 369,\n",
       " 371,\n",
       " 372,\n",
       " 374,\n",
       " 377,\n",
       " 379,\n",
       " 380,\n",
       " 381,\n",
       " 383,\n",
       " 384,\n",
       " 385,\n",
       " 386,\n",
       " 387,\n",
       " 389,\n",
       " 390,\n",
       " 393,\n",
       " 397,\n",
       " 400,\n",
       " 401,\n",
       " 402,\n",
       " 404,\n",
       " 405,\n",
       " 406,\n",
       " 408,\n",
       " 409,\n",
       " 410,\n",
       " 411,\n",
       " 412,\n",
       " 414,\n",
       " 415,\n",
       " 417,\n",
       " 418,\n",
       " 419,\n",
       " 420,\n",
       " 422,\n",
       " 423,\n",
       " 424,\n",
       " 427,\n",
       " 429,\n",
       " 431,\n",
       " 432,\n",
       " 433,\n",
       " 434,\n",
       " 437,\n",
       " 439,\n",
       " 440,\n",
       " 441,\n",
       " 442,\n",
       " 444,\n",
       " 447,\n",
       " 448,\n",
       " 452,\n",
       " 453,\n",
       " 457,\n",
       " 458,\n",
       " 459,\n",
       " 460,\n",
       " 461,\n",
       " 463,\n",
       " 474,\n",
       " 476,\n",
       " 478,\n",
       " 479,\n",
       " 482,\n",
       " 483,\n",
       " 484,\n",
       " 486,\n",
       " 487,\n",
       " 489,\n",
       " 491,\n",
       " 492,\n",
       " 493,\n",
       " 494,\n",
       " 496,\n",
       " 497,\n",
       " 500,\n",
       " 502,\n",
       " 503,\n",
       " 504,\n",
       " 505,\n",
       " 506,\n",
       " 507,\n",
       " 509,\n",
       " 510,\n",
       " 511,\n",
       " 512,\n",
       " 513,\n",
       " 515,\n",
       " 517,\n",
       " 518,\n",
       " 519,\n",
       " 520,\n",
       " 521,\n",
       " 523,\n",
       " 524,\n",
       " 525,\n",
       " 527,\n",
       " 528,\n",
       " 529,\n",
       " 532,\n",
       " 534,\n",
       " 542,\n",
       " 544,\n",
       " 548,\n",
       " 549,\n",
       " 550,\n",
       " 551,\n",
       " 552,\n",
       " 553,\n",
       " 554,\n",
       " 555,\n",
       " 557,\n",
       " 558,\n",
       " 562,\n",
       " 563,\n",
       " 564,\n",
       " 565,\n",
       " 567,\n",
       " 568,\n",
       " 569,\n",
       " 570,\n",
       " 571,\n",
       " 572,\n",
       " 573,\n",
       " 574,\n",
       " 575,\n",
       " 576,\n",
       " 577,\n",
       " 578,\n",
       " 579,\n",
       " 580,\n",
       " 582,\n",
       " 583,\n",
       " 585,\n",
       " 586,\n",
       " 590,\n",
       " 592,\n",
       " 599,\n",
       " 602,\n",
       " 605,\n",
       " 606,\n",
       " 608,\n",
       " 610,\n",
       " 611,\n",
       " 612,\n",
       " 613,\n",
       " 614,\n",
       " 616,\n",
       " 617,\n",
       " 618,\n",
       " 620,\n",
       " 621,\n",
       " 622,\n",
       " 623,\n",
       " 625,\n",
       " 626,\n",
       " 627,\n",
       " 628,\n",
       " 629,\n",
       " 631,\n",
       " 634,\n",
       " 635,\n",
       " 637,\n",
       " 638,\n",
       " 640,\n",
       " 644,\n",
       " 645,\n",
       " 646,\n",
       " 647,\n",
       " 648,\n",
       " 651,\n",
       " 652,\n",
       " 653,\n",
       " 654,\n",
       " 655,\n",
       " 656,\n",
       " 658,\n",
       " 660,\n",
       " 661,\n",
       " 662,\n",
       " 663,\n",
       " 665,\n",
       " 666,\n",
       " 667,\n",
       " 673,\n",
       " 676,\n",
       " 682,\n",
       " 683,\n",
       " 684,\n",
       " 686,\n",
       " 687,\n",
       " 689,\n",
       " 690,\n",
       " 691,\n",
       " 693,\n",
       " 694,\n",
       " 695,\n",
       " 698,\n",
       " 699,\n",
       " 700,\n",
       " 701,\n",
       " 704,\n",
       " 706,\n",
       " 707,\n",
       " 708,\n",
       " 711,\n",
       " 712,\n",
       " 713,\n",
       " 714,\n",
       " 715,\n",
       " 716,\n",
       " 717,\n",
       " 718,\n",
       " 719,\n",
       " 723,\n",
       " 724,\n",
       " 727,\n",
       " 728,\n",
       " 729,\n",
       " 730,\n",
       " 732,\n",
       " 733,\n",
       " 735,\n",
       " 736,\n",
       " 737,\n",
       " 739,\n",
       " 740,\n",
       " 741,\n",
       " 745,\n",
       " 747,\n",
       " 749,\n",
       " 750,\n",
       " 753,\n",
       " 755,\n",
       " 758,\n",
       " 759,\n",
       " 761,\n",
       " 763,\n",
       " 764,\n",
       " 765,\n",
       " 768,\n",
       " 771,\n",
       " 772,\n",
       " 773,\n",
       " 774,\n",
       " 776,\n",
       " 778,\n",
       " 780,\n",
       " 781,\n",
       " 782,\n",
       " 786,\n",
       " 787,\n",
       " 788,\n",
       " 789,\n",
       " 790,\n",
       " 794,\n",
       " 795,\n",
       " 796,\n",
       " 812,\n",
       " 818,\n",
       " 819,\n",
       " 821,\n",
       " 822,\n",
       " 825,\n",
       " 829,\n",
       " 830,\n",
       " 833,\n",
       " 834,\n",
       " 836,\n",
       " 837,\n",
       " 838,\n",
       " 843,\n",
       " 844,\n",
       " 847,\n",
       " 848,\n",
       " 850,\n",
       " 853,\n",
       " 856,\n",
       " 858,\n",
       " 859,\n",
       " 860,\n",
       " 863,\n",
       " 864,\n",
       " 865,\n",
       " 866,\n",
       " 867,\n",
       " 872,\n",
       " 873,\n",
       " 874,\n",
       " 877,\n",
       " 878,\n",
       " 879,\n",
       " 880,\n",
       " 882,\n",
       " 884,\n",
       " 885,\n",
       " 887,\n",
       " 889,\n",
       " 897,\n",
       " 899,\n",
       " 900,\n",
       " 901,\n",
       " 902,\n",
       " 903,\n",
       " 904,\n",
       " 906,\n",
       " 907,\n",
       " 908,\n",
       " 909,\n",
       " 911,\n",
       " 912,\n",
       " 914,\n",
       " 915,\n",
       " 916,\n",
       " 917,\n",
       " 918,\n",
       " 920,\n",
       " 921,\n",
       " 922,\n",
       " 923,\n",
       " 924,\n",
       " 926,\n",
       " 927,\n",
       " 929,\n",
       " 931,\n",
       " 932,\n",
       " 934,\n",
       " 935,\n",
       " 936,\n",
       " 937,\n",
       " 938,\n",
       " 940,\n",
       " 941,\n",
       " 942,\n",
       " 945,\n",
       " 948,\n",
       " 949,\n",
       " 950,\n",
       " 951,\n",
       " 952,\n",
       " 954,\n",
       " 956,\n",
       " 957,\n",
       " 958,\n",
       " 959,\n",
       " 960,\n",
       " 961,\n",
       " 962,\n",
       " 963,\n",
       " 966,\n",
       " 967,\n",
       " 968,\n",
       " 969,\n",
       " 970,\n",
       " 971,\n",
       " 972,\n",
       " 973,\n",
       " 974,\n",
       " 975,\n",
       " 979,\n",
       " 981,\n",
       " 984,\n",
       " 986,\n",
       " 989,\n",
       " 992,\n",
       " 994,\n",
       " 995,\n",
       " 997,\n",
       " 998,\n",
       " 1002,\n",
       " 1003,\n",
       " 1004,\n",
       " 1007,\n",
       " 1010,\n",
       " 1012,\n",
       " 1014,\n",
       " 1015,\n",
       " 1020,\n",
       " 1022,\n",
       " 1023,\n",
       " 1027,\n",
       " 1028,\n",
       " 1030,\n",
       " 1033,\n",
       " 1034,\n",
       " 1035,\n",
       " 1036,\n",
       " 1037,\n",
       " 1038,\n",
       " 1039,\n",
       " 1041,\n",
       " 1042,\n",
       " 1043,\n",
       " 1047,\n",
       " 1048,\n",
       " 1050,\n",
       " 1051,\n",
       " 1053,\n",
       " 1054,\n",
       " 1055,\n",
       " 1056,\n",
       " 1059,\n",
       " 1060,\n",
       " 1062,\n",
       " 1063,\n",
       " 1065,\n",
       " 1066,\n",
       " 1067,\n",
       " 1069,\n",
       " 1070,\n",
       " 1074,\n",
       " 1075,\n",
       " 1076,\n",
       " 1077,\n",
       " 1078,\n",
       " 1079,\n",
       " 1081,\n",
       " 1082,\n",
       " 1085,\n",
       " 1087,\n",
       " 1088,\n",
       " 1090,\n",
       " 1091,\n",
       " 1092,\n",
       " 1094,\n",
       " 1095,\n",
       " 1096,\n",
       " 1097,\n",
       " 1098,\n",
       " 1099,\n",
       " 1101,\n",
       " 1102,\n",
       " 1103,\n",
       " 1105,\n",
       " 1108,\n",
       " 1109,\n",
       " 1110,\n",
       " 1111,\n",
       " 1113,\n",
       " 1114,\n",
       " 1116,\n",
       " 1117,\n",
       " 1120,\n",
       " 1124,\n",
       " 1125,\n",
       " 1126,\n",
       " 1127,\n",
       " 1128,\n",
       " 1130,\n",
       " 1132,\n",
       " 1133,\n",
       " 1134,\n",
       " 1135,\n",
       " 1136,\n",
       " 1138,\n",
       " 1139,\n",
       " 1140,\n",
       " 1142,\n",
       " 1143,\n",
       " 1144,\n",
       " 1145,\n",
       " 1146,\n",
       " 1148,\n",
       " 1149,\n",
       " 1150,\n",
       " 1151,\n",
       " 1157,\n",
       " 1158,\n",
       " 1160,\n",
       " 1161,\n",
       " 1162,\n",
       " 1163,\n",
       " 1164,\n",
       " 1166,\n",
       " 1167,\n",
       " 1169,\n",
       " 1170,\n",
       " 1172,\n",
       " 1173,\n",
       " 1174,\n",
       " 1175,\n",
       " 1178,\n",
       " 1181,\n",
       " 1183,\n",
       " 1184,\n",
       " 1187,\n",
       " 1188,\n",
       " 1189,\n",
       " 1190,\n",
       " 1191,\n",
       " 1192,\n",
       " 1194,\n",
       " 1195,\n",
       " 1196,\n",
       " 1197,\n",
       " 1200,\n",
       " 1201,\n",
       " 1203,\n",
       " 1204,\n",
       " 1205,\n",
       " 1207,\n",
       " 1208,\n",
       " 1210,\n",
       " 1214,\n",
       " 1215,\n",
       " 1218,\n",
       " 1219,\n",
       " 1221,\n",
       " 1223,\n",
       " 1226,\n",
       " 1228,\n",
       " 1229,\n",
       " 1231,\n",
       " 1233,\n",
       " 1234,\n",
       " 1235,\n",
       " 1237,\n",
       " 1238,\n",
       " 1239,\n",
       " 1241,\n",
       " 1242,\n",
       " 1243,\n",
       " 1244,\n",
       " 1246,\n",
       " 1247,\n",
       " 1248,\n",
       " 1249,\n",
       " 1250,\n",
       " 1253,\n",
       " 1256,\n",
       " 1264,\n",
       " 1280,\n",
       " 1282,\n",
       " 1286,\n",
       " 1291,\n",
       " 1292,\n",
       " 1293,\n",
       " 1294,\n",
       " 1295,\n",
       " 1296,\n",
       " 1300,\n",
       " 1303,\n",
       " 1304,\n",
       " 1305,\n",
       " 1306,\n",
       " 1307,\n",
       " 1308,\n",
       " 1309,\n",
       " 1312,\n",
       " 1315,\n",
       " 1317,\n",
       " 1319,\n",
       " 1320,\n",
       " 1321,\n",
       " 1322,\n",
       " 1323,\n",
       " 1324,\n",
       " 1325,\n",
       " 1326,\n",
       " 1328,\n",
       " 1330,\n",
       " 1331,\n",
       " 1333,\n",
       " 1334,\n",
       " 1335,\n",
       " 1336,\n",
       " 1339,\n",
       " 1341,\n",
       " 1342,\n",
       " 1343,\n",
       " 1344,\n",
       " 1345,\n",
       " 1346,\n",
       " 1347,\n",
       " 1348,\n",
       " 1349,\n",
       " 1350,\n",
       " 1353,\n",
       " 1354,\n",
       " 1355,\n",
       " 1356,\n",
       " 1357,\n",
       " 1358,\n",
       " 1359,\n",
       " 1360,\n",
       " 1361,\n",
       " 1363,\n",
       " 1364,\n",
       " 1365,\n",
       " 1366,\n",
       " 1367,\n",
       " 1372,\n",
       " 1373,\n",
       " 1374,\n",
       " 1376,\n",
       " 1377,\n",
       " 1378,\n",
       " 1379,\n",
       " 1380,\n",
       " 1382,\n",
       " 1383,\n",
       " 1384,\n",
       " 1385,\n",
       " 1388,\n",
       " 1389,\n",
       " 1392,\n",
       " 1394,\n",
       " 1396,\n",
       " 1397,\n",
       " 1398,\n",
       " 1399,\n",
       " 1400,\n",
       " 1401,\n",
       " 1402,\n",
       " 1403,\n",
       " 1404,\n",
       " 1405,\n",
       " 1406,\n",
       " 1407,\n",
       " 1409,\n",
       " 1410,\n",
       " 1411,\n",
       " 1412,\n",
       " 1415,\n",
       " 1417,\n",
       " 1418,\n",
       " 1419,\n",
       " 1420,\n",
       " 1421,\n",
       " 1422,\n",
       " 1423,\n",
       " 1425,\n",
       " 1426,\n",
       " 1429,\n",
       " 1430,\n",
       " 1431,\n",
       " 1432,\n",
       " 1433,\n",
       " 1434,\n",
       " 1437,\n",
       " 1438,\n",
       " 1439,\n",
       " 1441,\n",
       " 1442,\n",
       " 1444,\n",
       " 1446,\n",
       " 1447,\n",
       " 1449,\n",
       " 1450,\n",
       " 1451,\n",
       " 1454,\n",
       " 1455,\n",
       " 1457,\n",
       " 1458,\n",
       " 1459,\n",
       " 1462,\n",
       " 1463,\n",
       " 1465,\n",
       " 1466,\n",
       " 1467,\n",
       " 1469,\n",
       " 1471,\n",
       " 1472,\n",
       " 1473,\n",
       " 1474,\n",
       " 1475,\n",
       " 1476,\n",
       " 1481,\n",
       " 1482,\n",
       " 1483,\n",
       " 1484,\n",
       " 1485,\n",
       " 1486,\n",
       " 1487,\n",
       " 1489,\n",
       " 1490,\n",
       " 1491,\n",
       " 1496,\n",
       " 1497,\n",
       " 1501,\n",
       " 1502,\n",
       " 1504,\n",
       " 1505,\n",
       " 1508,\n",
       " 1509,\n",
       " 1510,\n",
       " 1512,\n",
       " 1513,\n",
       " 1516,\n",
       " 1517,\n",
       " 1519,\n",
       " 1520,\n",
       " 1521,\n",
       " 1522,\n",
       " 1523,\n",
       " 1524,\n",
       " 1527,\n",
       " 1529,\n",
       " 1530,\n",
       " 1531,\n",
       " 1532,\n",
       " 1533,\n",
       " 1534,\n",
       " 1535,\n",
       " 1538,\n",
       " 1539,\n",
       " 1540,\n",
       " 1542,\n",
       " 1543,\n",
       " 1544,\n",
       " 1545,\n",
       " 1546,\n",
       " 1547,\n",
       " 1548,\n",
       " 1551,\n",
       " 1552,\n",
       " 1553,\n",
       " 1554,\n",
       " 1555,\n",
       " 1558,\n",
       " 1560,\n",
       " 1562,\n",
       " 1563,\n",
       " 1564,\n",
       " 1566,\n",
       " 1575,\n",
       " 1578,\n",
       " 1592,\n",
       " 1598,\n",
       " 1600,\n",
       " 1603,\n",
       " 1604,\n",
       " 1605,\n",
       " 1606,\n",
       " 1608,\n",
       " 1610,\n",
       " 1611,\n",
       " 1614,\n",
       " 1615,\n",
       " 1616,\n",
       " 1619,\n",
       " 1620,\n",
       " 1621,\n",
       " 1622,\n",
       " 1623,\n",
       " 1624,\n",
       " 1625,\n",
       " 1626,\n",
       " 1627,\n",
       " 1629,\n",
       " 1630,\n",
       " 1632,\n",
       " 1633,\n",
       " 1635,\n",
       " 1637,\n",
       " 1638,\n",
       " 1639,\n",
       " 1641,\n",
       " 1642,\n",
       " 1644,\n",
       " 1645,\n",
       " 1646,\n",
       " 1648,\n",
       " 1649,\n",
       " 1650,\n",
       " 1651,\n",
       " 1652,\n",
       " 1655,\n",
       " ...]"
      ]
     },
     "execution_count": 43,
     "metadata": {},
     "output_type": "execute_result"
    }
   ],
   "source": [
    "Ones_index=[]\n",
    "\n",
    "for i in range(X_input.shape[0]):\n",
    "    if labels[i,0]==1:\n",
    "        Ones_index.append(i)\n",
    "Ones_index"
   ]
  },
  {
   "cell_type": "code",
   "execution_count": 44,
   "id": "16a95437-7164-465d-b345-9f4660895772",
   "metadata": {},
   "outputs": [
    {
     "data": {
      "text/plain": [
       "6303"
      ]
     },
     "execution_count": 44,
     "metadata": {},
     "output_type": "execute_result"
    }
   ],
   "source": [
    "len(Ones_index)"
   ]
  },
  {
   "cell_type": "code",
   "execution_count": 45,
   "id": "4787d343-ab3c-4bc3-b862-0450bb130a42",
   "metadata": {
    "scrolled": true
   },
   "outputs": [
    {
     "data": {
      "text/plain": [
       "[704,\n",
       " 3974,\n",
       " 1380,\n",
       " 4935,\n",
       " 8856,\n",
       " 3909,\n",
       " 9396,\n",
       " 7731,\n",
       " 2589,\n",
       " 8957,\n",
       " 3352,\n",
       " 3002,\n",
       " 4993,\n",
       " 6231,\n",
       " 7726,\n",
       " 7984,\n",
       " 5324,\n",
       " 3930,\n",
       " 3615,\n",
       " 2068,\n",
       " 6909,\n",
       " 8497,\n",
       " 4580,\n",
       " 6188,\n",
       " 1648,\n",
       " 7842,\n",
       " 4798,\n",
       " 7660,\n",
       " 5171,\n",
       " 6261,\n",
       " 9508,\n",
       " 4110,\n",
       " 6602,\n",
       " 5098,\n",
       " 7279,\n",
       " 2826,\n",
       " 8451,\n",
       " 4432,\n",
       " 9020,\n",
       " 2435,\n",
       " 8063,\n",
       " 2745,\n",
       " 4938,\n",
       " 3155,\n",
       " 3871,\n",
       " 1673,\n",
       " 8117,\n",
       " 7845,\n",
       " 7300,\n",
       " 315,\n",
       " 8693,\n",
       " 9680,\n",
       " 8855,\n",
       " 6102,\n",
       " 5510,\n",
       " 5961,\n",
       " 2146,\n",
       " 2657,\n",
       " 2485,\n",
       " 5600,\n",
       " 7394,\n",
       " 6882,\n",
       " 7771,\n",
       " 10213,\n",
       " 8937,\n",
       " 1028,\n",
       " 2600,\n",
       " 4701,\n",
       " 8564,\n",
       " 6898,\n",
       " 5378,\n",
       " 8227,\n",
       " 1876,\n",
       " 6239,\n",
       " 3497,\n",
       " 5,\n",
       " 5860,\n",
       " 4,\n",
       " 9978,\n",
       " 3553,\n",
       " 6838,\n",
       " 9707,\n",
       " 6679,\n",
       " 1417,\n",
       " 3148,\n",
       " 2717,\n",
       " 7500,\n",
       " 5293,\n",
       " 6761,\n",
       " 2670,\n",
       " 8014,\n",
       " 1774,\n",
       " 7417,\n",
       " 8445,\n",
       " 1822,\n",
       " 7225,\n",
       " 5675,\n",
       " 755,\n",
       " 9897,\n",
       " 3735,\n",
       " 1366,\n",
       " 1120,\n",
       " 10061,\n",
       " 44,\n",
       " 7627,\n",
       " 4187,\n",
       " 10128,\n",
       " 5408,\n",
       " 6222,\n",
       " 9240,\n",
       " 204,\n",
       " 7113,\n",
       " 4958,\n",
       " 3819,\n",
       " 1377,\n",
       " 1771,\n",
       " 2705,\n",
       " 5930,\n",
       " 1861,\n",
       " 5804,\n",
       " 1600,\n",
       " 1842,\n",
       " 1475,\n",
       " 9728,\n",
       " 4738,\n",
       " 6296,\n",
       " 2733,\n",
       " 7380,\n",
       " 525,\n",
       " 8840,\n",
       " 9371,\n",
       " 7809,\n",
       " 2555,\n",
       " 9502,\n",
       " 4378,\n",
       " 3451,\n",
       " 9725,\n",
       " 4367,\n",
       " 4134,\n",
       " 4758,\n",
       " 2824,\n",
       " 367,\n",
       " 794,\n",
       " 8033,\n",
       " 8065,\n",
       " 3545,\n",
       " 1812,\n",
       " 3468,\n",
       " 8051,\n",
       " 8013,\n",
       " 1961,\n",
       " 3280,\n",
       " 3337,\n",
       " 3666,\n",
       " 3482,\n",
       " 2374,\n",
       " 2390,\n",
       " 9732,\n",
       " 4918,\n",
       " 1990,\n",
       " 9345,\n",
       " 3186,\n",
       " 3142,\n",
       " 8769,\n",
       " 3797,\n",
       " 2178,\n",
       " 8306,\n",
       " 3947,\n",
       " 6524,\n",
       " 6131,\n",
       " 3957,\n",
       " 4786,\n",
       " 9215,\n",
       " 5509,\n",
       " 4857,\n",
       " 79,\n",
       " 5573,\n",
       " 8175,\n",
       " 2934,\n",
       " 8755,\n",
       " 4279,\n",
       " 5402,\n",
       " 5027,\n",
       " 6090,\n",
       " 5671,\n",
       " 3305,\n",
       " 4347,\n",
       " 3060,\n",
       " 7789,\n",
       " 7588,\n",
       " 6457,\n",
       " 6178,\n",
       " 9578,\n",
       " 1205,\n",
       " 8713,\n",
       " 98,\n",
       " 7683,\n",
       " 8180,\n",
       " 4741,\n",
       " 8197,\n",
       " 6955,\n",
       " 3462,\n",
       " 3355,\n",
       " 3181,\n",
       " 959,\n",
       " 327,\n",
       " 4939,\n",
       " 4311,\n",
       " 7456,\n",
       " 8974,\n",
       " 7989,\n",
       " 11,\n",
       " 3499,\n",
       " 8242,\n",
       " 7143,\n",
       " 4129,\n",
       " 9899,\n",
       " 10012,\n",
       " 2328,\n",
       " 6445,\n",
       " 8620,\n",
       " 6857,\n",
       " 3748,\n",
       " 1723,\n",
       " 652,\n",
       " 1451,\n",
       " 2191,\n",
       " 2625,\n",
       " 9312,\n",
       " 1685,\n",
       " 69,\n",
       " 5301,\n",
       " 4234,\n",
       " 9860,\n",
       " 2660,\n",
       " 220,\n",
       " 9764,\n",
       " 3709,\n",
       " 9783,\n",
       " 9163,\n",
       " 6988,\n",
       " 3416,\n",
       " 4989,\n",
       " 4513,\n",
       " 9750,\n",
       " 1718,\n",
       " 3062,\n",
       " 5442,\n",
       " 9338,\n",
       " 2238,\n",
       " 4348,\n",
       " 2682,\n",
       " 5575,\n",
       " 5812,\n",
       " 6488,\n",
       " 2897,\n",
       " 7453,\n",
       " 4898,\n",
       " 259,\n",
       " 6034,\n",
       " 1420,\n",
       " 5595,\n",
       " 9559,\n",
       " 8857,\n",
       " 4030,\n",
       " 7140,\n",
       " 9492,\n",
       " 9648,\n",
       " 9763,\n",
       " 4295,\n",
       " 2607,\n",
       " 3944,\n",
       " 6422,\n",
       " 4169,\n",
       " 4739,\n",
       " 6670,\n",
       " 4313,\n",
       " 7293,\n",
       " 8927,\n",
       " 8466,\n",
       " 2244,\n",
       " 9949,\n",
       " 6806,\n",
       " 8346,\n",
       " 5550,\n",
       " 9391,\n",
       " 6681,\n",
       " 940,\n",
       " 3021,\n",
       " 4521,\n",
       " 2158,\n",
       " 231,\n",
       " 2648,\n",
       " 8553,\n",
       " 5598,\n",
       " 3465,\n",
       " 5477,\n",
       " 9593,\n",
       " 8735,\n",
       " 5266,\n",
       " 2691,\n",
       " 5073,\n",
       " 457,\n",
       " 5036,\n",
       " 5475,\n",
       " 6124,\n",
       " 8488,\n",
       " 10089,\n",
       " 5092,\n",
       " 5304,\n",
       " 2036,\n",
       " 7852,\n",
       " 298,\n",
       " 4753,\n",
       " 1804,\n",
       " 5114,\n",
       " 2864,\n",
       " 2291,\n",
       " 3543,\n",
       " 3151,\n",
       " 7498,\n",
       " 5051,\n",
       " 9168,\n",
       " 9367,\n",
       " 2000,\n",
       " 8439,\n",
       " 7672,\n",
       " 4177,\n",
       " 4740,\n",
       " 7645,\n",
       " 1945,\n",
       " 7753,\n",
       " 2196,\n",
       " 8587,\n",
       " 9587,\n",
       " 8563,\n",
       " 4510,\n",
       " 8573,\n",
       " 2373,\n",
       " 3459,\n",
       " 2787,\n",
       " 397,\n",
       " 6618,\n",
       " 6546,\n",
       " 3353,\n",
       " 2134,\n",
       " 1809,\n",
       " 9883,\n",
       " 8302,\n",
       " 2364,\n",
       " 9832,\n",
       " 5023,\n",
       " 2500,\n",
       " 8521,\n",
       " 3211,\n",
       " 5211,\n",
       " 8419,\n",
       " 2774,\n",
       " 9316,\n",
       " 1359,\n",
       " 2070,\n",
       " 5201,\n",
       " 2088,\n",
       " 7254,\n",
       " 9270,\n",
       " 7883,\n",
       " 5384,\n",
       " 1930,\n",
       " 7949,\n",
       " 122,\n",
       " 1666,\n",
       " 2768,\n",
       " 2933,\n",
       " 5433,\n",
       " 625,\n",
       " 4185,\n",
       " 96,\n",
       " 3330,\n",
       " 10167,\n",
       " 3715,\n",
       " 7372,\n",
       " 5746,\n",
       " 7466,\n",
       " 4235,\n",
       " 5767,\n",
       " 2551,\n",
       " 2332,\n",
       " 8951,\n",
       " 2529,\n",
       " 5432,\n",
       " 9348,\n",
       " 7413,\n",
       " 571,\n",
       " 4048,\n",
       " 1502,\n",
       " 2644,\n",
       " 7232,\n",
       " 7415,\n",
       " 5111,\n",
       " 6435,\n",
       " 8158,\n",
       " 9195,\n",
       " 2736,\n",
       " 7037,\n",
       " 6087,\n",
       " 7402,\n",
       " 1223,\n",
       " 4193,\n",
       " 863,\n",
       " 877,\n",
       " 3878,\n",
       " 7960,\n",
       " 3047,\n",
       " 2388,\n",
       " 790,\n",
       " 4373,\n",
       " 7020,\n",
       " 6123,\n",
       " 4166,\n",
       " 9506,\n",
       " 3000,\n",
       " 3663,\n",
       " 3079,\n",
       " 5903,\n",
       " 3198,\n",
       " 8511,\n",
       " 3961,\n",
       " 8044,\n",
       " 9645,\n",
       " 5166,\n",
       " 7578,\n",
       " 77,\n",
       " 2414,\n",
       " 9935,\n",
       " 3130,\n",
       " 9327,\n",
       " 2851,\n",
       " 7681,\n",
       " 3196,\n",
       " 9853,\n",
       " 6266,\n",
       " 71,\n",
       " 1632,\n",
       " 10127,\n",
       " 8647,\n",
       " 6111,\n",
       " 1816,\n",
       " 4536,\n",
       " 6487,\n",
       " 6226,\n",
       " 2618,\n",
       " 1741,\n",
       " 6016,\n",
       " 6247,\n",
       " 8420,\n",
       " 9610,\n",
       " 3117,\n",
       " 7047,\n",
       " 1402,\n",
       " 2400,\n",
       " 10247,\n",
       " 7323,\n",
       " 6040,\n",
       " 137,\n",
       " 3767,\n",
       " 6755,\n",
       " 9952,\n",
       " 9701,\n",
       " 9210,\n",
       " 3683,\n",
       " 5487,\n",
       " 4401,\n",
       " 5235,\n",
       " 2517,\n",
       " 5983,\n",
       " 9681,\n",
       " 4008,\n",
       " 6901,\n",
       " 795,\n",
       " 8483,\n",
       " 6169,\n",
       " 8294,\n",
       " 8266,\n",
       " 3488,\n",
       " 9344,\n",
       " 5748,\n",
       " 6784,\n",
       " 4588,\n",
       " 2894,\n",
       " 1002,\n",
       " 4996,\n",
       " 9992,\n",
       " 1188,\n",
       " 5555,\n",
       " 7917,\n",
       " 9119,\n",
       " 10190,\n",
       " 6977,\n",
       " 345,\n",
       " 8911,\n",
       " 8830,\n",
       " 9581,\n",
       " 7977,\n",
       " 9919,\n",
       " 915,\n",
       " 6530,\n",
       " 2976,\n",
       " 8335,\n",
       " 7404,\n",
       " 8418,\n",
       " 2324,\n",
       " 6906,\n",
       " 9007,\n",
       " 1469,\n",
       " 322,\n",
       " 5586,\n",
       " 9424,\n",
       " 8120,\n",
       " 9211,\n",
       " 3990,\n",
       " 1558,\n",
       " 9511,\n",
       " 5754,\n",
       " 1883,\n",
       " 2764,\n",
       " 5846,\n",
       " 848,\n",
       " 8274,\n",
       " 1843,\n",
       " 8874,\n",
       " 5012,\n",
       " 10268,\n",
       " 9126,\n",
       " 1090,\n",
       " 5136,\n",
       " 4181,\n",
       " 747,\n",
       " 2866,\n",
       " 5024,\n",
       " 7247,\n",
       " 371,\n",
       " 8922,\n",
       " 5004,\n",
       " 1847,\n",
       " 1007,\n",
       " 1336,\n",
       " 2349,\n",
       " 8308,\n",
       " 8017,\n",
       " 10034,\n",
       " 8535,\n",
       " 7396,\n",
       " 4599,\n",
       " 781,\n",
       " 3357,\n",
       " 6815,\n",
       " 5640,\n",
       " 8775,\n",
       " 10097,\n",
       " 8908,\n",
       " 682,\n",
       " 6218,\n",
       " 6598,\n",
       " 1065,\n",
       " 5593,\n",
       " 2515,\n",
       " 8248,\n",
       " 4736,\n",
       " 8886,\n",
       " 844,\n",
       " 1665,\n",
       " 2233,\n",
       " 2340,\n",
       " 1627,\n",
       " 10210,\n",
       " 7217,\n",
       " 3879,\n",
       " 1551,\n",
       " 309,\n",
       " 7042,\n",
       " 3956,\n",
       " 3874,\n",
       " 3873,\n",
       " 9616,\n",
       " 8612,\n",
       " 6374,\n",
       " 764,\n",
       " 5113,\n",
       " 1532,\n",
       " 9498,\n",
       " 3526,\n",
       " 6416,\n",
       " 8697,\n",
       " 3177,\n",
       " 7032,\n",
       " 1978,\n",
       " 206,\n",
       " 5627,\n",
       " 9186,\n",
       " 818,\n",
       " 4438,\n",
       " 1603,\n",
       " 9497,\n",
       " 8796,\n",
       " 8201,\n",
       " 527,\n",
       " 8898,\n",
       " 8234,\n",
       " 5611,\n",
       " 4865,\n",
       " 8345,\n",
       " 3800,\n",
       " 265,\n",
       " 6233,\n",
       " 3614,\n",
       " 4795,\n",
       " 4576,\n",
       " 5677,\n",
       " 3364,\n",
       " 2129,\n",
       " 284,\n",
       " 3323,\n",
       " 6970,\n",
       " 5330,\n",
       " 1203,\n",
       " 6494,\n",
       " 2815,\n",
       " 6548,\n",
       " 10069,\n",
       " 10182,\n",
       " 9052,\n",
       " 9630,\n",
       " 7133,\n",
       " 4873,\n",
       " 932,\n",
       " 5823,\n",
       " 558,\n",
       " 9106,\n",
       " 262,\n",
       " 9122,\n",
       " 2208,\n",
       " 7616,\n",
       " 10282,\n",
       " 1286,\n",
       " 2915,\n",
       " 5589,\n",
       " 9175,\n",
       " 8022,\n",
       " 3068,\n",
       " 676,\n",
       " 3160,\n",
       " 9331,\n",
       " 6137,\n",
       " 3869,\n",
       " 385,\n",
       " 838,\n",
       " 5258,\n",
       " 3516,\n",
       " 8746,\n",
       " 2972,\n",
       " 2074,\n",
       " 1160,\n",
       " 5931,\n",
       " 6780,\n",
       " 9890,\n",
       " 4974,\n",
       " 3222,\n",
       " 6566,\n",
       " 1884,\n",
       " 8525,\n",
       " 8617,\n",
       " 6294,\n",
       " 2172,\n",
       " 2994,\n",
       " 341,\n",
       " 3202,\n",
       " 2215,\n",
       " 10292,\n",
       " 8105,\n",
       " 5619,\n",
       " 5614,\n",
       " 1246,\n",
       " 212,\n",
       " 4142,\n",
       " 8555,\n",
       " 9343,\n",
       " 5707,\n",
       " 9154,\n",
       " 2093,\n",
       " 8032,\n",
       " 8375,\n",
       " 83,\n",
       " 1383,\n",
       " 847,\n",
       " 5450,\n",
       " 2459,\n",
       " 8096,\n",
       " 8688,\n",
       " 10202,\n",
       " 5944,\n",
       " 4073,\n",
       " 6424,\n",
       " 3486,\n",
       " 6871,\n",
       " 1831,\n",
       " 4668,\n",
       " 4673,\n",
       " 3568,\n",
       " 9880,\n",
       " 8441,\n",
       " 5998,\n",
       " 1237,\n",
       " 9997,\n",
       " 4764,\n",
       " 7529,\n",
       " 7983,\n",
       " 5870,\n",
       " 2862,\n",
       " 4502,\n",
       " 6646,\n",
       " 2290,\n",
       " 2651,\n",
       " 1126,\n",
       " 8961,\n",
       " 654,\n",
       " 8915,\n",
       " 8645,\n",
       " 6997,\n",
       " 1608,\n",
       " 2868,\n",
       " 5494,\n",
       " 10297,\n",
       " 8684,\n",
       " 5497,\n",
       " 7386,\n",
       " 4116,\n",
       " 7314,\n",
       " 8215,\n",
       " 5360,\n",
       " 1798,\n",
       " 2986,\n",
       " 2256,\n",
       " 9008,\n",
       " 586,\n",
       " 5923,\n",
       " 8655,\n",
       " 7048,\n",
       " 2207,\n",
       " 10134,\n",
       " 5152,\n",
       " 941,\n",
       " 2128,\n",
       " 5779,\n",
       " 4852,\n",
       " 8191,\n",
       " 2452,\n",
       " 336,\n",
       " 9258,\n",
       " 7289,\n",
       " 5501,\n",
       " 4115,\n",
       " 5270,\n",
       " 3595,\n",
       " 812,\n",
       " 1342,\n",
       " 6736,\n",
       " 2131,\n",
       " 3098,\n",
       " 2309,\n",
       " 2927,\n",
       " 8711,\n",
       " 1060,\n",
       " 765,\n",
       " 10023,\n",
       " 544,\n",
       " 9363,\n",
       " 4153,\n",
       " 6869,\n",
       " 4983,\n",
       " 1384,\n",
       " 9265,\n",
       " 713,\n",
       " 140,\n",
       " 1418,\n",
       " 5803,\n",
       " 272,\n",
       " 9613,\n",
       " 3430,\n",
       " 1466,\n",
       " 4716,\n",
       " 1200,\n",
       " 10261,\n",
       " 8593,\n",
       " 1519,\n",
       " 2533,\n",
       " 2385,\n",
       " 10005,\n",
       " 10101,\n",
       " 3508,\n",
       " 2187,\n",
       " 2708,\n",
       " 8091,\n",
       " 4406,\n",
       " 867,\n",
       " 8339,\n",
       " 3943,\n",
       " 634,\n",
       " 1379,\n",
       " 662,\n",
       " 4850,\n",
       " 8885,\n",
       " 647,\n",
       " 1036,\n",
       " 8023,\n",
       " 3520,\n",
       " 4041,\n",
       " 7586,\n",
       " 5667,\n",
       " 1736,\n",
       " 1207,\n",
       " 1692,\n",
       " 10218,\n",
       " 2066,\n",
       " 8639,\n",
       " 3328,\n",
       " 2953,\n",
       " 7533,\n",
       " 1125,\n",
       " 6429,\n",
       " 1534,\n",
       " 1610,\n",
       " 4542,\n",
       " 2217,\n",
       " 5385,\n",
       " 4271,\n",
       " 3758,\n",
       " 5276,\n",
       " 4790,\n",
       " 7231,\n",
       " 5814,\n",
       " 3652,\n",
       " 7665,\n",
       " 3532,\n",
       " 5858,\n",
       " 8068,\n",
       " 6126,\n",
       " 856,\n",
       " 6791,\n",
       " 10281,\n",
       " 8189,\n",
       " 4495,\n",
       " 4703,\n",
       " 7872,\n",
       " 3958,\n",
       " 4111,\n",
       " 6726,\n",
       " 1462,\n",
       " 9718,\n",
       " 10042,\n",
       " 3133,\n",
       " 2599,\n",
       " 2738,\n",
       " 6276,\n",
       " 1244,\n",
       " 9278,\n",
       " 9231,\n",
       " 4338,\n",
       " 7825,\n",
       " 8172,\n",
       " 6656,\n",
       " 4577,\n",
       " 4848,\n",
       " 5253,\n",
       " 1441,\n",
       " 5010,\n",
       " 9056,\n",
       " 1533,\n",
       " 2543,\n",
       " 7049,\n",
       " 8548,\n",
       " 6832,\n",
       " 2605,\n",
       " 3756,\n",
       " 4221,\n",
       " 164,\n",
       " 7406,\n",
       " 8889,\n",
       " 8781,\n",
       " 2987,\n",
       " 4880,\n",
       " 8924,\n",
       " 8424,\n",
       " 4345,\n",
       " 4307,\n",
       " 6708,\n",
       " 5230,\n",
       " 8431,\n",
       " 5793,\n",
       " 1250,\n",
       " 5851,\n",
       " 7651,\n",
       " 5419,\n",
       " 5954,\n",
       " 6243,\n",
       " 7426,\n",
       " 2871,\n",
       " 6279,\n",
       " 2297,\n",
       " 8246,\n",
       " 3934,\n",
       " 4526,\n",
       " 7602,\n",
       " 9939,\n",
       " 6050,\n",
       " 4089,\n",
       " 8391,\n",
       " 8751,\n",
       " 7733,\n",
       " 9420,\n",
       " 9099,\n",
       " 3183,\n",
       " 4755,\n",
       " 9054,\n",
       " 6752,\n",
       " 4337,\n",
       " 4103,\n",
       " 4552,\n",
       " 5650,\n",
       " 5231,\n",
       " 245,\n",
       " 4117,\n",
       " 6371,\n",
       " 8589,\n",
       " 629,\n",
       " 6073,\n",
       " 4982,\n",
       " 3972,\n",
       " 1966,\n",
       " 866,\n",
       " 10108,\n",
       " 706,\n",
       " 8159,\n",
       " 3679,\n",
       " 727,\n",
       " 4225,\n",
       " 9740,\n",
       " 8088,\n",
       " 9748,\n",
       " 4399,\n",
       " 8416,\n",
       " 3420,\n",
       " 8698,\n",
       " 1012,\n",
       " 89,\n",
       " 9730,\n",
       " 8388,\n",
       " 4558,\n",
       " 3078,\n",
       " 9234,\n",
       " 8652,\n",
       " 6321,\n",
       " 10007,\n",
       " 9979,\n",
       " 5088,\n",
       " 5147,\n",
       " 4182,\n",
       " 8220,\n",
       " 2772,\n",
       " 9401,\n",
       " 8475,\n",
       " 6855,\n",
       " 246,\n",
       " 2254,\n",
       " 825,\n",
       " 10090,\n",
       " 152,\n",
       " 3356,\n",
       " 4397,\n",
       " 3704,\n",
       " 6175,\n",
       " 1794,\n",
       " 8627,\n",
       " 9491,\n",
       " 7596,\n",
       " 628,\n",
       " 386,\n",
       " 64,\n",
       " 879,\n",
       " 2167,\n",
       " 9921,\n",
       " 8435,\n",
       " 834,\n",
       " 4421,\n",
       " 6394,\n",
       " 5437,\n",
       " 10019,\n",
       " 9263,\n",
       " 3204,\n",
       " 5100,\n",
       " 3772,\n",
       " ...]"
      ]
     },
     "execution_count": 45,
     "metadata": {},
     "output_type": "execute_result"
    }
   ],
   "source": [
    "random.shuffle(Ones_index)\n",
    "Ones_index"
   ]
  },
  {
   "cell_type": "code",
   "execution_count": 47,
   "id": "952f7b86-50ce-4f25-83bc-626b29addbea",
   "metadata": {},
   "outputs": [
    {
     "data": {
      "text/plain": [
       "4000"
      ]
     },
     "execution_count": 47,
     "metadata": {},
     "output_type": "execute_result"
    }
   ],
   "source": [
    "Ones_index=Ones_index[0:4000]\n",
    "len(Ones_index)"
   ]
  },
  {
   "cell_type": "code",
   "execution_count": 48,
   "id": "f278988a-a26f-44dc-8a5e-6eb441dd9e25",
   "metadata": {},
   "outputs": [
    {
     "data": {
      "text/plain": [
       "(4000, 64, 64, 12)"
      ]
     },
     "execution_count": 48,
     "metadata": {},
     "output_type": "execute_result"
    }
   ],
   "source": [
    "X_input[Ones_index].shape"
   ]
  },
  {
   "cell_type": "code",
   "execution_count": 49,
   "id": "50fdeae7-12e3-4b4e-935b-c4756e7685d4",
   "metadata": {},
   "outputs": [],
   "source": [
    "Data[4000:]=X_input[Ones_index]"
   ]
  },
  {
   "cell_type": "code",
   "execution_count": 50,
   "id": "62994b93-8696-401d-8795-e8cc2ed6b7b1",
   "metadata": {},
   "outputs": [
    {
     "data": {
      "text/plain": [
       "(8000, 64, 64, 12)"
      ]
     },
     "execution_count": 50,
     "metadata": {},
     "output_type": "execute_result"
    }
   ],
   "source": [
    "Data.shape"
   ]
  },
  {
   "cell_type": "markdown",
   "id": "6661ac63-80c2-47f3-8d17-c66c8f7e02a7",
   "metadata": {},
   "source": [
    "### Shuffle Data"
   ]
  },
  {
   "cell_type": "code",
   "execution_count": 53,
   "id": "6c7bb31f-8a35-4e39-981b-33d88db14096",
   "metadata": {},
   "outputs": [
    {
     "data": {
      "text/plain": [
       "array([5009, 7380, 1657, ..., 7324, 3214, 3096])"
      ]
     },
     "execution_count": 53,
     "metadata": {},
     "output_type": "execute_result"
    }
   ],
   "source": [
    "indexes = np.arange(Data.shape[0])\n",
    "indexes\n",
    "np.random.shuffle(indexes)\n",
    "indexes"
   ]
  },
  {
   "cell_type": "code",
   "execution_count": 54,
   "id": "417f1838-1b02-4b32-8695-545deaf19999",
   "metadata": {},
   "outputs": [
    {
     "data": {
      "text/plain": [
       "array([[1.],\n",
       "       [1.],\n",
       "       [0.],\n",
       "       [1.],\n",
       "       [0.],\n",
       "       [1.],\n",
       "       [0.],\n",
       "       [1.],\n",
       "       [0.],\n",
       "       [0.]], dtype=float32)"
      ]
     },
     "execution_count": 54,
     "metadata": {},
     "output_type": "execute_result"
    }
   ],
   "source": [
    "\n",
    "\n",
    "Input_data = Data[indexes]\n",
    "label_data = New_labels[indexes]\n",
    "\n",
    "label_data[0:10]"
   ]
  },
  {
   "cell_type": "code",
   "execution_count": 57,
   "id": "39250e12-b300-460a-b432-e66787826ec6",
   "metadata": {},
   "outputs": [
    {
     "data": {
      "text/plain": [
       "array([[1.],\n",
       "       [1.],\n",
       "       [1.],\n",
       "       [1.],\n",
       "       [1.],\n",
       "       [1.],\n",
       "       [1.],\n",
       "       [1.],\n",
       "       [1.],\n",
       "       [1.]], dtype=float32)"
      ]
     },
     "execution_count": 57,
     "metadata": {},
     "output_type": "execute_result"
    }
   ],
   "source": [
    "New_labels[-10:]"
   ]
  },
  {
   "cell_type": "markdown",
   "id": "8b03b8b7-f186-4901-b275-6e8f1b17d470",
   "metadata": {},
   "source": [
    "## Scaling"
   ]
  },
  {
   "cell_type": "markdown",
   "id": "06856a39-664e-4f7e-b531-8d4b4a4b11dd",
   "metadata": {},
   "source": [
    "### MinMax"
   ]
  },
  {
   "cell_type": "code",
   "execution_count": 58,
   "id": "c5ae76f9-a9e7-4f14-a264-4f4799bdfedc",
   "metadata": {},
   "outputs": [
    {
     "data": {
      "text/plain": [
       "(8000, 64, 64, 12)"
      ]
     },
     "execution_count": 58,
     "metadata": {},
     "output_type": "execute_result"
    }
   ],
   "source": [
    "Data.shape"
   ]
  },
  {
   "cell_type": "code",
   "execution_count": 59,
   "id": "6eb51e64-d7de-48f2-9008-67d25036a815",
   "metadata": {},
   "outputs": [],
   "source": [
    "Max_list=[]\n",
    "Min_list=[]\n",
    "\n",
    "for i in range(Data.shape[3]):\n",
    "    \n",
    "    Max=np.max(Data[:,:,:,i])\n",
    "    Max_list.append(Max)\n",
    "\n",
    "    Min=np.min(Data[:,:,:,i])\n",
    "    Min_list.append(Min)"
   ]
  },
  {
   "cell_type": "code",
   "execution_count": 60,
   "id": "b3cbf862-ee40-4581-aa89-f5ab08ca7b4c",
   "metadata": {},
   "outputs": [
    {
     "data": {
      "text/plain": [
       "[4151.0,\n",
       " 37463.168,\n",
       " 75.220535,\n",
       " 716.6276,\n",
       " 1229.8488,\n",
       " 0.06229025,\n",
       " 136.81561,\n",
       " 52.268967,\n",
       " 9961.0,\n",
       " 27103.605,\n",
       " 2470.8823,\n",
       " 1.0]"
      ]
     },
     "execution_count": 60,
     "metadata": {},
     "output_type": "execute_result"
    }
   ],
   "source": [
    "Max_list"
   ]
  },
  {
   "cell_type": "code",
   "execution_count": 61,
   "id": "c0cd59e5-36b2-40da-9fea-c9fba5d8329c",
   "metadata": {},
   "outputs": [
    {
     "data": {
      "text/plain": [
       "[-45.0,\n",
       " -342711.88,\n",
       " -53.425995,\n",
       " 0.0,\n",
       " 0.0,\n",
       " -0.1289879,\n",
       " -54.545547,\n",
       " -152.90793,\n",
       " -9531.0,\n",
       " 0.0,\n",
       " -529.32404,\n",
       " 0.0]"
      ]
     },
     "execution_count": 61,
     "metadata": {},
     "output_type": "execute_result"
    }
   ],
   "source": [
    "Min_list"
   ]
  },
  {
   "cell_type": "code",
   "execution_count": 62,
   "id": "2c1e2d78-69c0-42fd-8d39-ef70d8b5f231",
   "metadata": {},
   "outputs": [],
   "source": [
    "Normalized_Data=np.zeros_like(Data)\n",
    "for i in range(len(Min_list)-1):\n",
    "\n",
    "    Normalized_Data[:,:,:,i]=(Data[:,:,:,i]-Min_list[i])/(Max_list[i]-Min_list[i])"
   ]
  },
  {
   "cell_type": "code",
   "execution_count": 63,
   "id": "c98c6b12-1753-4c89-b4ce-e4199584a9d5",
   "metadata": {},
   "outputs": [
    {
     "data": {
      "text/plain": [
       "1.0"
      ]
     },
     "execution_count": 63,
     "metadata": {},
     "output_type": "execute_result"
    }
   ],
   "source": [
    "Normalized_Data.max()"
   ]
  },
  {
   "cell_type": "code",
   "execution_count": 64,
   "id": "e23e28d8-2665-4428-8965-119cf3211681",
   "metadata": {},
   "outputs": [
    {
     "data": {
      "text/plain": [
       "0.0"
      ]
     },
     "execution_count": 64,
     "metadata": {},
     "output_type": "execute_result"
    }
   ],
   "source": [
    "Normalized_Data.min()"
   ]
  },
  {
   "cell_type": "markdown",
   "id": "0235c8ba-15c8-44c8-84d7-cc89ae4e8cee",
   "metadata": {},
   "source": [
    "### Z Score"
   ]
  },
  {
   "cell_type": "code",
   "execution_count": 65,
   "id": "76d5e51c-1338-4702-aa67-57083c3f8dc6",
   "metadata": {},
   "outputs": [
    {
     "data": {
      "text/plain": [
       "(8000, 64, 64, 12)"
      ]
     },
     "execution_count": 65,
     "metadata": {},
     "output_type": "execute_result"
    }
   ],
   "source": [
    "Data.shape"
   ]
  },
  {
   "cell_type": "code",
   "execution_count": 66,
   "id": "f8d2c463-0db8-488a-8364-fc925f662b6b",
   "metadata": {},
   "outputs": [],
   "source": [
    "Mean_list=[]\n",
    "Std_list=[]\n",
    "\n",
    "for i in range(Data.shape[3]):\n",
    "    \n",
    "    Mean=np.mean(Data[:,:,:,i])\n",
    "    Mean_list.append(Mean)\n",
    "\n",
    "    Std=np.std(Data[:,:,:,i])\n",
    "    Std_list.append(Std)"
   ]
  },
  {
   "cell_type": "code",
   "execution_count": 67,
   "id": "3a98f57b-d4de-4938-8a34-c3cd2da6a403",
   "metadata": {},
   "outputs": [
    {
     "data": {
      "text/plain": [
       "[973.52264,\n",
       " 173.41318,\n",
       " 3.579714,\n",
       " 280.3689,\n",
       " 296.76123,\n",
       " 0.0061948234,\n",
       " 0.1300732,\n",
       " -0.7907689,\n",
       " 5296.2856,\n",
       " 25.170849,\n",
       " 58.323036,\n",
       " 0.010265838]"
      ]
     },
     "execution_count": 67,
     "metadata": {},
     "output_type": "execute_result"
    }
   ],
   "source": [
    "Mean_list"
   ]
  },
  {
   "cell_type": "code",
   "execution_count": 68,
   "id": "f740d71c-5b39-423d-9a82-800b1b7feff3",
   "metadata": {},
   "outputs": [
    {
     "data": {
      "text/plain": [
       "[854.0629,\n",
       " 2458.9702,\n",
       " 1.3120763,\n",
       " 29.71861,\n",
       " 31.400196,\n",
       " 0.0034265656,\n",
       " 0.9194355,\n",
       " 2.4004607,\n",
       " 2210.4966,\n",
       " 206.46786,\n",
       " 25.684507,\n",
       " 0.100798905]"
      ]
     },
     "execution_count": 68,
     "metadata": {},
     "output_type": "execute_result"
    }
   ],
   "source": [
    "Std_list"
   ]
  },
  {
   "cell_type": "code",
   "execution_count": 69,
   "id": "a8697272-6a22-473e-b39e-68eaf1c7872a",
   "metadata": {},
   "outputs": [],
   "source": [
    "Normalized_Data=np.zeros_like(Data)\n",
    "for i in range(len(Min_list)-1):\n",
    "\n",
    "    Normalized_Data[:,:,:,i]=(Data[:,:,:,i]-Mean_list[i])/Std_list[i]"
   ]
  },
  {
   "cell_type": "code",
   "execution_count": 70,
   "id": "95a434a2-8e4f-4365-9119-7c1dd79ac1ce",
   "metadata": {},
   "outputs": [
    {
     "data": {
      "text/plain": [
       "148.66246"
      ]
     },
     "execution_count": 70,
     "metadata": {},
     "output_type": "execute_result"
    }
   ],
   "source": [
    "Normalized_Data.max()"
   ]
  },
  {
   "cell_type": "code",
   "execution_count": 71,
   "id": "3ec0cf8e-a644-4aea-8ed6-c2c6d1134ac0",
   "metadata": {},
   "outputs": [
    {
     "data": {
      "text/plain": [
       "-139.44263"
      ]
     },
     "execution_count": 71,
     "metadata": {},
     "output_type": "execute_result"
    }
   ],
   "source": [
    "Normalized_Data.min()"
   ]
  },
  {
   "cell_type": "code",
   "execution_count": 72,
   "id": "ee6cbf4b-25e1-4327-a43b-cf775e26bd41",
   "metadata": {},
   "outputs": [
    {
     "data": {
      "text/plain": [
       "(8000, 64, 64, 12)"
      ]
     },
     "execution_count": 72,
     "metadata": {},
     "output_type": "execute_result"
    }
   ],
   "source": [
    "Normalized_Data.shape"
   ]
  },
  {
   "cell_type": "markdown",
   "id": "61cc1705-19f4-41cc-8bc5-ba38b6beb06b",
   "metadata": {},
   "source": [
    "### Prepare input shape fo ML Methods"
   ]
  },
  {
   "cell_type": "code",
   "execution_count": 73,
   "id": "0039ce8c-b121-4532-97a4-624bc6e98482",
   "metadata": {},
   "outputs": [
    {
     "data": {
      "text/plain": [
       "49152"
      ]
     },
     "execution_count": 73,
     "metadata": {},
     "output_type": "execute_result"
    }
   ],
   "source": [
    "n_rows=Normalized_Data.shape[1]\n",
    "n_col=Normalized_Data.shape[2]\n",
    "n_variables=Normalized_Data.shape[3]\n",
    "\n",
    "n_features=n_rows*n_col*n_variables\n",
    "n_features"
   ]
  },
  {
   "cell_type": "code",
   "execution_count": 74,
   "id": "f3878e5c-ea0f-45ec-9022-b11e73ee3f71",
   "metadata": {},
   "outputs": [
    {
     "data": {
      "text/plain": [
       "((8000, 49152), (8000, 1))"
      ]
     },
     "execution_count": 74,
     "metadata": {},
     "output_type": "execute_result"
    }
   ],
   "source": [
    "X=np.zeros((Normalized_Data.shape[0],n_features),dtype='float32')\n",
    "Y=label_data\n",
    "X.shape, Y.shape"
   ]
  },
  {
   "cell_type": "code",
   "execution_count": 75,
   "id": "4ad1c3ab-f28e-47e1-a805-dbdcd0aa9358",
   "metadata": {},
   "outputs": [],
   "source": [
    "for i in range(X.shape[0]):\n",
    "    X[i]=Normalized_Data[i].flatten()"
   ]
  },
  {
   "cell_type": "code",
   "execution_count": 76,
   "id": "66d71c4b-4219-49ab-8654-2fc431bf9e73",
   "metadata": {},
   "outputs": [
    {
     "data": {
      "text/plain": [
       "(8000, 49152)"
      ]
     },
     "execution_count": 76,
     "metadata": {},
     "output_type": "execute_result"
    }
   ],
   "source": [
    "X.shape"
   ]
  },
  {
   "cell_type": "code",
   "execution_count": 77,
   "id": "f05ab6b2-c56a-4c1a-a6f1-f890b5617808",
   "metadata": {},
   "outputs": [
    {
     "data": {
      "text/plain": [
       "(8000, 1)"
      ]
     },
     "execution_count": 77,
     "metadata": {},
     "output_type": "execute_result"
    }
   ],
   "source": [
    "Y.shape"
   ]
  },
  {
   "cell_type": "code",
   "execution_count": 78,
   "id": "a698b84d-ae9a-43f5-8dc0-b1f882b7c106",
   "metadata": {},
   "outputs": [],
   "source": [
    "indexes = np.arange(X.shape[0])\n",
    "\n",
    "np.random.shuffle(indexes)\n",
    "train_index = indexes[0: int(0.9 * X.shape[0])]\n",
    "test_index = indexes[int(0.9 * X.shape[0]):]\n",
    "\n",
    "x_train = X[train_index]\n",
    "x_test = X[test_index]\n",
    "\n",
    "y_train = Y[train_index]\n",
    "y_test = Y[test_index]"
   ]
  },
  {
   "cell_type": "code",
   "execution_count": 81,
   "id": "79c8b907-9e01-431f-a321-07a49a8baf8b",
   "metadata": {},
   "outputs": [
    {
     "name": "stdout",
     "output_type": "stream",
     "text": [
      "X Train shape:  (7200, 49152)\n",
      "Y Train shape:  (7200, 1)\n",
      "X Test shape:  (800, 49152)\n",
      "Y Test shape:  (800, 1)\n"
     ]
    }
   ],
   "source": [
    "print('X Train shape: ',x_train.shape)\n",
    "print('Y Train shape: ',y_train.shape)\n",
    "print('X Test shape: ',x_test.shape)\n",
    "print('Y Test shape: ',y_test.shape)"
   ]
  },
  {
   "cell_type": "code",
   "execution_count": 97,
   "id": "741b51e5-2079-47ad-bb73-e67eac8fa3a3",
   "metadata": {},
   "outputs": [],
   "source": [
    "from sklearn import tree\n",
    "from sklearn.ensemble import RandomForestClassifier\n",
    "from sklearn.linear_model import LogisticRegression"
   ]
  },
  {
   "cell_type": "code",
   "execution_count": 98,
   "id": "23b1c285-fe2f-4021-94be-018efe08cea7",
   "metadata": {},
   "outputs": [
    {
     "name": "stderr",
     "output_type": "stream",
     "text": [
      "C:\\Users\\Mohamad\\anaconda3\\Lib\\site-packages\\sklearn\\utils\\validation.py:1143: DataConversionWarning: A column-vector y was passed when a 1d array was expected. Please change the shape of y to (n_samples, ), for example using ravel().\n",
      "  y = column_or_1d(y, warn=True)\n",
      "C:\\Users\\Mohamad\\anaconda3\\Lib\\site-packages\\sklearn\\linear_model\\_logistic.py:458: ConvergenceWarning: lbfgs failed to converge (status=1):\n",
      "STOP: TOTAL NO. of ITERATIONS REACHED LIMIT.\n",
      "\n",
      "Increase the number of iterations (max_iter) or scale the data as shown in:\n",
      "    https://scikit-learn.org/stable/modules/preprocessing.html\n",
      "Please also refer to the documentation for alternative solver options:\n",
      "    https://scikit-learn.org/stable/modules/linear_model.html#logistic-regression\n",
      "  n_iter_i = _check_optimize_result(\n"
     ]
    },
    {
     "data": {
      "text/html": [
       "<style>#sk-container-id-4 {color: black;background-color: white;}#sk-container-id-4 pre{padding: 0;}#sk-container-id-4 div.sk-toggleable {background-color: white;}#sk-container-id-4 label.sk-toggleable__label {cursor: pointer;display: block;width: 100%;margin-bottom: 0;padding: 0.3em;box-sizing: border-box;text-align: center;}#sk-container-id-4 label.sk-toggleable__label-arrow:before {content: \"▸\";float: left;margin-right: 0.25em;color: #696969;}#sk-container-id-4 label.sk-toggleable__label-arrow:hover:before {color: black;}#sk-container-id-4 div.sk-estimator:hover label.sk-toggleable__label-arrow:before {color: black;}#sk-container-id-4 div.sk-toggleable__content {max-height: 0;max-width: 0;overflow: hidden;text-align: left;background-color: #f0f8ff;}#sk-container-id-4 div.sk-toggleable__content pre {margin: 0.2em;color: black;border-radius: 0.25em;background-color: #f0f8ff;}#sk-container-id-4 input.sk-toggleable__control:checked~div.sk-toggleable__content {max-height: 200px;max-width: 100%;overflow: auto;}#sk-container-id-4 input.sk-toggleable__control:checked~label.sk-toggleable__label-arrow:before {content: \"▾\";}#sk-container-id-4 div.sk-estimator input.sk-toggleable__control:checked~label.sk-toggleable__label {background-color: #d4ebff;}#sk-container-id-4 div.sk-label input.sk-toggleable__control:checked~label.sk-toggleable__label {background-color: #d4ebff;}#sk-container-id-4 input.sk-hidden--visually {border: 0;clip: rect(1px 1px 1px 1px);clip: rect(1px, 1px, 1px, 1px);height: 1px;margin: -1px;overflow: hidden;padding: 0;position: absolute;width: 1px;}#sk-container-id-4 div.sk-estimator {font-family: monospace;background-color: #f0f8ff;border: 1px dotted black;border-radius: 0.25em;box-sizing: border-box;margin-bottom: 0.5em;}#sk-container-id-4 div.sk-estimator:hover {background-color: #d4ebff;}#sk-container-id-4 div.sk-parallel-item::after {content: \"\";width: 100%;border-bottom: 1px solid gray;flex-grow: 1;}#sk-container-id-4 div.sk-label:hover label.sk-toggleable__label {background-color: #d4ebff;}#sk-container-id-4 div.sk-serial::before {content: \"\";position: absolute;border-left: 1px solid gray;box-sizing: border-box;top: 0;bottom: 0;left: 50%;z-index: 0;}#sk-container-id-4 div.sk-serial {display: flex;flex-direction: column;align-items: center;background-color: white;padding-right: 0.2em;padding-left: 0.2em;position: relative;}#sk-container-id-4 div.sk-item {position: relative;z-index: 1;}#sk-container-id-4 div.sk-parallel {display: flex;align-items: stretch;justify-content: center;background-color: white;position: relative;}#sk-container-id-4 div.sk-item::before, #sk-container-id-4 div.sk-parallel-item::before {content: \"\";position: absolute;border-left: 1px solid gray;box-sizing: border-box;top: 0;bottom: 0;left: 50%;z-index: -1;}#sk-container-id-4 div.sk-parallel-item {display: flex;flex-direction: column;z-index: 1;position: relative;background-color: white;}#sk-container-id-4 div.sk-parallel-item:first-child::after {align-self: flex-end;width: 50%;}#sk-container-id-4 div.sk-parallel-item:last-child::after {align-self: flex-start;width: 50%;}#sk-container-id-4 div.sk-parallel-item:only-child::after {width: 0;}#sk-container-id-4 div.sk-dashed-wrapped {border: 1px dashed gray;margin: 0 0.4em 0.5em 0.4em;box-sizing: border-box;padding-bottom: 0.4em;background-color: white;}#sk-container-id-4 div.sk-label label {font-family: monospace;font-weight: bold;display: inline-block;line-height: 1.2em;}#sk-container-id-4 div.sk-label-container {text-align: center;}#sk-container-id-4 div.sk-container {/* jupyter's `normalize.less` sets `[hidden] { display: none; }` but bootstrap.min.css set `[hidden] { display: none !important; }` so we also need the `!important` here to be able to override the default hidden behavior on the sphinx rendered scikit-learn.org. See: https://github.com/scikit-learn/scikit-learn/issues/21755 */display: inline-block !important;position: relative;}#sk-container-id-4 div.sk-text-repr-fallback {display: none;}</style><div id=\"sk-container-id-4\" class=\"sk-top-container\"><div class=\"sk-text-repr-fallback\"><pre>LogisticRegression(random_state=0)</pre><b>In a Jupyter environment, please rerun this cell to show the HTML representation or trust the notebook. <br />On GitHub, the HTML representation is unable to render, please try loading this page with nbviewer.org.</b></div><div class=\"sk-container\" hidden><div class=\"sk-item\"><div class=\"sk-estimator sk-toggleable\"><input class=\"sk-toggleable__control sk-hidden--visually\" id=\"sk-estimator-id-4\" type=\"checkbox\" checked><label for=\"sk-estimator-id-4\" class=\"sk-toggleable__label sk-toggleable__label-arrow\">LogisticRegression</label><div class=\"sk-toggleable__content\"><pre>LogisticRegression(random_state=0)</pre></div></div></div></div></div>"
      ],
      "text/plain": [
       "LogisticRegression(random_state=0)"
      ]
     },
     "execution_count": 98,
     "metadata": {},
     "output_type": "execute_result"
    }
   ],
   "source": [
    "# clf = tree.DecisionTreeClassifier()\n",
    "# clf.fit(x_train, y_train)\n",
    "\n",
    "\n",
    "# clf = RandomForestClassifier(n_estimators=200,max_depth=10, random_state=0)\n",
    "# clf.fit(x_train, y_train)\n",
    "\n",
    "clf = LogisticRegression(random_state=0)\n",
    "clf.fit(x_train, y_train)"
   ]
  },
  {
   "cell_type": "code",
   "execution_count": 92,
   "id": "307cefdd-cd81-4923-9064-dca4cb60446e",
   "metadata": {},
   "outputs": [],
   "source": [
    "from sklearn.metrics import accuracy_score"
   ]
  },
  {
   "cell_type": "code",
   "execution_count": 99,
   "id": "6b5bebee-d777-4be3-989c-32615e902594",
   "metadata": {},
   "outputs": [
    {
     "data": {
      "text/plain": [
       "0.51375"
      ]
     },
     "execution_count": 99,
     "metadata": {},
     "output_type": "execute_result"
    }
   ],
   "source": [
    "y_pred=clf.predict(x_test)\n",
    "accuracy_score(y_test, y_pred)"
   ]
  },
  {
   "cell_type": "code",
   "execution_count": 94,
   "id": "aa63c113-b72c-4935-8fda-636e3536cb19",
   "metadata": {},
   "outputs": [],
   "source": [
    "from sklearn.metrics import confusion_matrix"
   ]
  },
  {
   "cell_type": "code",
   "execution_count": 100,
   "id": "71d07dd7-1d13-4d4c-bc48-340a372e1d40",
   "metadata": {},
   "outputs": [
    {
     "data": {
      "text/plain": [
       "array([[202, 202],\n",
       "       [187, 209]], dtype=int64)"
      ]
     },
     "execution_count": 100,
     "metadata": {},
     "output_type": "execute_result"
    }
   ],
   "source": [
    "confusion_matrix(y_test, y_pred)"
   ]
  },
  {
   "cell_type": "markdown",
   "id": "19f1a6cf-e6c7-412c-97be-b888631e99f1",
   "metadata": {},
   "source": [
    "# Tap30 demand prediction"
   ]
  },
  {
   "cell_type": "markdown",
   "id": "1894c8e0-a019-4b47-8b39-90a698e933b1",
   "metadata": {},
   "source": [
    "### Load packeages"
   ]
  },
  {
   "cell_type": "code",
   "execution_count": 101,
   "id": "da193e3c-b1a1-45c5-a58a-f8f2a85b31a3",
   "metadata": {},
   "outputs": [],
   "source": [
    "import numpy as np\n",
    "import matplotlib.pyplot as plt\n",
    "plt.rcParams[\"font.family\"] = \"Times New Roman\""
   ]
  },
  {
   "cell_type": "markdown",
   "id": "d81b6f55-307b-463c-825e-57317cd2ed63",
   "metadata": {},
   "source": [
    "### Load data"
   ]
  },
  {
   "cell_type": "code",
   "execution_count": 102,
   "id": "16400050-52fb-4132-9945-8878ab17a9a0",
   "metadata": {},
   "outputs": [
    {
     "data": {
      "text/plain": [
       "(5856, 8)"
      ]
     },
     "execution_count": 102,
     "metadata": {},
     "output_type": "execute_result"
    }
   ],
   "source": [
    "data=np.genfromtxt(\"E:/Deep Course/Weeks/W4/Data/Tap30Data.txt\", delimiter=\" \") \n",
    "data.shape"
   ]
  },
  {
   "cell_type": "markdown",
   "id": "624c7420-aa5a-4636-beaf-9d6e02c7c5a6",
   "metadata": {},
   "source": [
    "### Repalacing Missing Values"
   ]
  },
  {
   "cell_type": "code",
   "execution_count": 104,
   "id": "646d3a2c-1aba-4855-9bc8-d463b7d0aaff",
   "metadata": {},
   "outputs": [],
   "source": [
    "t=data==-1\n",
    "data[t]=0"
   ]
  },
  {
   "cell_type": "code",
   "execution_count": 105,
   "id": "771f0f18-94ce-4bd6-b047-2348d6e7f53e",
   "metadata": {},
   "outputs": [
    {
     "data": {
      "text/plain": [
       "array([[False, False, False, ...,  True,  True, False],\n",
       "       [ True,  True,  True, ..., False,  True,  True],\n",
       "       [ True,  True, False, ..., False,  True, False],\n",
       "       ...,\n",
       "       [False, False, False, ..., False, False, False],\n",
       "       [ True, False, False, ...,  True, False,  True],\n",
       "       [False, False,  True, ..., False, False, False]])"
      ]
     },
     "execution_count": 105,
     "metadata": {},
     "output_type": "execute_result"
    }
   ],
   "source": [
    "t"
   ]
  },
  {
   "cell_type": "markdown",
   "id": "e48f6507-7a9e-4f0a-bd20-3b3bf1469be5",
   "metadata": {},
   "source": [
    "### Prepare data format"
   ]
  },
  {
   "cell_type": "code",
   "execution_count": 106,
   "id": "a5ddc4a6-9734-4d16-9651-2ce84b8d4e49",
   "metadata": {},
   "outputs": [
    {
     "data": {
      "text/plain": [
       "(732, 8, 8)"
      ]
     },
     "execution_count": 106,
     "metadata": {},
     "output_type": "execute_result"
    }
   ],
   "source": [
    "n_samples=int(data.shape[0]/8)\n",
    "width=8\n",
    "heigh=8\n",
    "\n",
    "dataset=np.zeros((n_samples,width,heigh),dtype='float32')\n",
    "\n",
    "for i in range(n_samples):\n",
    "    arr=data[i*8:(i+1)*8,:]\n",
    "    dataset[i,:,:]=arr\n",
    "    \n",
    "dataset.shape"
   ]
  },
  {
   "cell_type": "code",
   "execution_count": 107,
   "id": "b42481cf-6329-4d3e-b048-d0a95b7a74a4",
   "metadata": {},
   "outputs": [
    {
     "data": {
      "text/plain": [
       "(8, 8)"
      ]
     },
     "execution_count": 107,
     "metadata": {},
     "output_type": "execute_result"
    }
   ],
   "source": [
    "arr.shape"
   ]
  },
  {
   "cell_type": "markdown",
   "id": "f03d725a-532a-4d92-a729-4681b4aecd9f",
   "metadata": {},
   "source": [
    "### Prepare input and label"
   ]
  },
  {
   "cell_type": "code",
   "execution_count": 108,
   "id": "016d6cb0-b009-425b-bac5-94091bece051",
   "metadata": {},
   "outputs": [
    {
     "data": {
      "text/plain": [
       "(732, 8, 8)"
      ]
     },
     "execution_count": 108,
     "metadata": {},
     "output_type": "execute_result"
    }
   ],
   "source": [
    "dataset.shape"
   ]
  },
  {
   "cell_type": "code",
   "execution_count": 113,
   "id": "ac142bac-d944-4b1c-bc43-dca1f5291122",
   "metadata": {},
   "outputs": [
    {
     "name": "stdout",
     "output_type": "stream",
     "text": [
      "input: (730, 2, 8, 8)\n",
      "output: (730, 8, 8)\n"
     ]
    }
   ],
   "source": [
    "time_step=2\n",
    "\n",
    "n_samples=dataset.shape[0]-time_step\n",
    "width=8\n",
    "height=8\n",
    "\n",
    "Input=np.zeros((n_samples,time_step,width,height),dtype='float32')\n",
    "output=np.zeros((n_samples,width,height),dtype='float32')\n",
    "\n",
    "c=0\n",
    "for i in range(n_samples):\n",
    "    for j in range(time_step):\n",
    "        Input[i,j,:,:]=dataset[j+c,:,:]\n",
    "    c=c+1\n",
    "    output[i,:,:]=dataset[j+c,:,:]\n",
    "print('input:',Input.shape)\n",
    "print('output:',output.shape)"
   ]
  },
  {
   "cell_type": "markdown",
   "id": "1ea45fe4-1479-4e1d-9570-9c9cefe7e026",
   "metadata": {},
   "source": [
    "### Visualization"
   ]
  },
  {
   "cell_type": "code",
   "execution_count": 114,
   "id": "97258be0-80f1-4ea7-bcac-f4aada99e5d4",
   "metadata": {},
   "outputs": [
    {
     "data": {
      "image/png": "[encoded data removed]",
      "text/plain": [
       "<Figure size 1800x3000 with 3 Axes>"
      ]
     },
     "metadata": {},
     "output_type": "display_data"
    }
   ],
   "source": [
    "random_number=np.random.randint(0,Input.shape[0]-1)\n",
    "\n",
    "\n",
    "plt.figure(figsize=(6,10),dpi=300)\n",
    "\n",
    "for i in range(time_step+1):\n",
    "    \n",
    "    if i!=time_step:\n",
    "        plt.subplot(1,time_step+1,i+1)\n",
    "        plt.imshow(Input[random_number,i,:,:],cmap='jet')\n",
    "        plt.xticks([])\n",
    "        plt.yticks([])\n",
    "        plt.title('T: '+str(i+1))\n",
    "\n",
    "    if i==time_step:\n",
    "        \n",
    "        plt.subplot(1,time_step+1,i+1)\n",
    "        plt.imshow(output[random_number,:,:],cmap='jet')\n",
    "        plt.xticks([])\n",
    "        plt.yticks([])\n",
    "        plt.title('T: '+str(i+1))\n",
    "\n",
    "plt.show()    "
   ]
  },
  {
   "cell_type": "markdown",
   "id": "ca041b65-0f2e-440e-9346-f1df7e3e5384",
   "metadata": {},
   "source": [
    "### Normalization"
   ]
  },
  {
   "cell_type": "code",
   "execution_count": 115,
   "id": "6a7a51b1-072c-4844-86f7-ca9d3689cde2",
   "metadata": {},
   "outputs": [
    {
     "data": {
      "text/plain": [
       "(53.76354, -0.25220674)"
      ]
     },
     "execution_count": 115,
     "metadata": {},
     "output_type": "execute_result"
    }
   ],
   "source": [
    "Mean=np.mean(Input)\n",
    "Std=np.std(Input)\n",
    "\n",
    "Normalized_Input=(Input-Mean)/Std\n",
    "Normalized_Input.max(),Normalized_Input.min()\n"
   ]
  },
  {
   "cell_type": "markdown",
   "id": "b2b7f449-275f-4b1e-93d7-6651d6b33031",
   "metadata": {},
   "source": [
    "### ML Input data"
   ]
  },
  {
   "cell_type": "code",
   "execution_count": null,
   "id": "aa9da80a-dc3f-478c-ad5a-e00d8c1d3592",
   "metadata": {},
   "outputs": [],
   "source": [
    "Normalized_Input.shape,output.shape"
   ]
  },
  {
   "cell_type": "code",
   "execution_count": 117,
   "id": "f13905d8-df88-499c-a033-2f78773af29d",
   "metadata": {},
   "outputs": [],
   "source": [
    "n_samples=Normalized_Input.shape[0]\n",
    "time_step=Normalized_Input.shape[1]\n",
    "width=Normalized_Input.shape[2]\n",
    "height=Normalized_Input.shape[3]\n",
    "\n",
    "n_features=time_step*width*height\n",
    "\n",
    "X=np.zeros((n_samples,n_features),dtype='float32')\n",
    "\n",
    "\n",
    "output_element=width*height\n",
    "Y=np.zeros((n_samples,output_element),dtype='float32')\n",
    "\n",
    "for i in range(n_samples):\n",
    "    \n",
    "    X[i]=Normalized_Input[i].flatten()\n",
    "    Y[i]=output[i].flatten()\n",
    "    \n"
   ]
  },
  {
   "cell_type": "code",
   "execution_count": 118,
   "id": "1ee105d2-4f86-47bc-9e6f-0e62ae2cd390",
   "metadata": {},
   "outputs": [
    {
     "data": {
      "text/plain": [
       "(730, 128)"
      ]
     },
     "execution_count": 118,
     "metadata": {},
     "output_type": "execute_result"
    }
   ],
   "source": [
    "X.shape"
   ]
  },
  {
   "cell_type": "code",
   "execution_count": 119,
   "id": "ab033720-c7a6-429c-be8c-433de6f8bab4",
   "metadata": {},
   "outputs": [
    {
     "data": {
      "text/plain": [
       "(730, 64)"
      ]
     },
     "execution_count": 119,
     "metadata": {},
     "output_type": "execute_result"
    }
   ],
   "source": [
    "Y.shape"
   ]
  },
  {
   "cell_type": "markdown",
   "id": "038aea70-b10e-428b-8f77-3483416e2eff",
   "metadata": {},
   "source": [
    "### Shuffling and splitting"
   ]
  },
  {
   "cell_type": "code",
   "execution_count": 120,
   "id": "186f499b-d4c2-4e96-b6ab-c4df66b5f01d",
   "metadata": {},
   "outputs": [],
   "source": [
    "indexes = np.arange(X.shape[0])\n",
    "\n",
    "np.random.shuffle(indexes)\n",
    "train_index = indexes[0: int(0.9 * X.shape[0])]\n",
    "test_index = indexes[int(0.9 * X.shape[0]):]\n",
    "\n",
    "x_train = X[train_index]\n",
    "x_test = X[test_index]\n",
    "\n",
    "y_train = Y[train_index]\n",
    "y_test = Y[test_index]"
   ]
  },
  {
   "cell_type": "code",
   "execution_count": 121,
   "id": "ee806885-c98f-41df-bc89-bb56f6636128",
   "metadata": {},
   "outputs": [
    {
     "name": "stdout",
     "output_type": "stream",
     "text": [
      "X Train shape:  (657, 128)\n",
      "Y Train shape:  (657, 64)\n",
      "X Test shape:  (73, 128)\n",
      "Y Test shape:  (73, 64)\n"
     ]
    }
   ],
   "source": [
    "print('X Train shape: ',x_train.shape)\n",
    "print('Y Train shape: ',y_train.shape)\n",
    "print('X Test shape: ',x_test.shape)\n",
    "print('Y Test shape: ',y_test.shape)"
   ]
  },
  {
   "cell_type": "markdown",
   "id": "8a94c1ec-4943-4457-a8b5-9280ba0407d7",
   "metadata": {},
   "source": [
    "### Training"
   ]
  },
  {
   "cell_type": "code",
   "execution_count": 122,
   "id": "49f91080-c50c-4af1-a9d0-7c06cf0fdbec",
   "metadata": {},
   "outputs": [],
   "source": [
    "from sklearn.ensemble import RandomForestRegressor"
   ]
  },
  {
   "cell_type": "code",
   "execution_count": 131,
   "id": "9e25e4ab-e2b9-4b22-8831-2c8cce38fd76",
   "metadata": {},
   "outputs": [
    {
     "data": {
      "text/html": [
       "<style>#sk-container-id-6 {color: black;background-color: white;}#sk-container-id-6 pre{padding: 0;}#sk-container-id-6 div.sk-toggleable {background-color: white;}#sk-container-id-6 label.sk-toggleable__label {cursor: pointer;display: block;width: 100%;margin-bottom: 0;padding: 0.3em;box-sizing: border-box;text-align: center;}#sk-container-id-6 label.sk-toggleable__label-arrow:before {content: \"▸\";float: left;margin-right: 0.25em;color: #696969;}#sk-container-id-6 label.sk-toggleable__label-arrow:hover:before {color: black;}#sk-container-id-6 div.sk-estimator:hover label.sk-toggleable__label-arrow:before {color: black;}#sk-container-id-6 div.sk-toggleable__content {max-height: 0;max-width: 0;overflow: hidden;text-align: left;background-color: #f0f8ff;}#sk-container-id-6 div.sk-toggleable__content pre {margin: 0.2em;color: black;border-radius: 0.25em;background-color: #f0f8ff;}#sk-container-id-6 input.sk-toggleable__control:checked~div.sk-toggleable__content {max-height: 200px;max-width: 100%;overflow: auto;}#sk-container-id-6 input.sk-toggleable__control:checked~label.sk-toggleable__label-arrow:before {content: \"▾\";}#sk-container-id-6 div.sk-estimator input.sk-toggleable__control:checked~label.sk-toggleable__label {background-color: #d4ebff;}#sk-container-id-6 div.sk-label input.sk-toggleable__control:checked~label.sk-toggleable__label {background-color: #d4ebff;}#sk-container-id-6 input.sk-hidden--visually {border: 0;clip: rect(1px 1px 1px 1px);clip: rect(1px, 1px, 1px, 1px);height: 1px;margin: -1px;overflow: hidden;padding: 0;position: absolute;width: 1px;}#sk-container-id-6 div.sk-estimator {font-family: monospace;background-color: #f0f8ff;border: 1px dotted black;border-radius: 0.25em;box-sizing: border-box;margin-bottom: 0.5em;}#sk-container-id-6 div.sk-estimator:hover {background-color: #d4ebff;}#sk-container-id-6 div.sk-parallel-item::after {content: \"\";width: 100%;border-bottom: 1px solid gray;flex-grow: 1;}#sk-container-id-6 div.sk-label:hover label.sk-toggleable__label {background-color: #d4ebff;}#sk-container-id-6 div.sk-serial::before {content: \"\";position: absolute;border-left: 1px solid gray;box-sizing: border-box;top: 0;bottom: 0;left: 50%;z-index: 0;}#sk-container-id-6 div.sk-serial {display: flex;flex-direction: column;align-items: center;background-color: white;padding-right: 0.2em;padding-left: 0.2em;position: relative;}#sk-container-id-6 div.sk-item {position: relative;z-index: 1;}#sk-container-id-6 div.sk-parallel {display: flex;align-items: stretch;justify-content: center;background-color: white;position: relative;}#sk-container-id-6 div.sk-item::before, #sk-container-id-6 div.sk-parallel-item::before {content: \"\";position: absolute;border-left: 1px solid gray;box-sizing: border-box;top: 0;bottom: 0;left: 50%;z-index: -1;}#sk-container-id-6 div.sk-parallel-item {display: flex;flex-direction: column;z-index: 1;position: relative;background-color: white;}#sk-container-id-6 div.sk-parallel-item:first-child::after {align-self: flex-end;width: 50%;}#sk-container-id-6 div.sk-parallel-item:last-child::after {align-self: flex-start;width: 50%;}#sk-container-id-6 div.sk-parallel-item:only-child::after {width: 0;}#sk-container-id-6 div.sk-dashed-wrapped {border: 1px dashed gray;margin: 0 0.4em 0.5em 0.4em;box-sizing: border-box;padding-bottom: 0.4em;background-color: white;}#sk-container-id-6 div.sk-label label {font-family: monospace;font-weight: bold;display: inline-block;line-height: 1.2em;}#sk-container-id-6 div.sk-label-container {text-align: center;}#sk-container-id-6 div.sk-container {/* jupyter's `normalize.less` sets `[hidden] { display: none; }` but bootstrap.min.css set `[hidden] { display: none !important; }` so we also need the `!important` here to be able to override the default hidden behavior on the sphinx rendered scikit-learn.org. See: https://github.com/scikit-learn/scikit-learn/issues/21755 */display: inline-block !important;position: relative;}#sk-container-id-6 div.sk-text-repr-fallback {display: none;}</style><div id=\"sk-container-id-6\" class=\"sk-top-container\"><div class=\"sk-text-repr-fallback\"><pre>RandomForestRegressor(max_depth=20, n_estimators=20, random_state=0)</pre><b>In a Jupyter environment, please rerun this cell to show the HTML representation or trust the notebook. <br />On GitHub, the HTML representation is unable to render, please try loading this page with nbviewer.org.</b></div><div class=\"sk-container\" hidden><div class=\"sk-item\"><div class=\"sk-estimator sk-toggleable\"><input class=\"sk-toggleable__control sk-hidden--visually\" id=\"sk-estimator-id-6\" type=\"checkbox\" checked><label for=\"sk-estimator-id-6\" class=\"sk-toggleable__label sk-toggleable__label-arrow\">RandomForestRegressor</label><div class=\"sk-toggleable__content\"><pre>RandomForestRegressor(max_depth=20, n_estimators=20, random_state=0)</pre></div></div></div></div></div>"
      ],
      "text/plain": [
       "RandomForestRegressor(max_depth=20, n_estimators=20, random_state=0)"
      ]
     },
     "execution_count": 131,
     "metadata": {},
     "output_type": "execute_result"
    }
   ],
   "source": [
    "regr = RandomForestRegressor(n_estimators=20,max_depth=20, random_state=0)\n",
    "regr.fit(x_train, y_train)"
   ]
  },
  {
   "cell_type": "markdown",
   "id": "53df719e-3961-4d86-9a27-7a20f47d08a5",
   "metadata": {},
   "source": [
    "### Evaluation"
   ]
  },
  {
   "cell_type": "code",
   "execution_count": 132,
   "id": "8cc533b9-c0db-4f33-b5c3-dfebbbda31fb",
   "metadata": {},
   "outputs": [],
   "source": [
    "y_pred=regr.predict(x_test)"
   ]
  },
  {
   "cell_type": "code",
   "execution_count": 133,
   "id": "f5517093-cf98-47b4-a631-1bdc0e787e30",
   "metadata": {},
   "outputs": [],
   "source": [
    "from sklearn.metrics import median_absolute_error"
   ]
  },
  {
   "cell_type": "code",
   "execution_count": 134,
   "id": "1e7a6b0b-aef9-4b8b-b9da-b5fa313e9e7f",
   "metadata": {},
   "outputs": [
    {
     "data": {
      "text/plain": [
       "29.452660194491607"
      ]
     },
     "execution_count": 134,
     "metadata": {},
     "output_type": "execute_result"
    }
   ],
   "source": [
    "mean_absolute_error(y_test, y_pred)"
   ]
  },
  {
   "cell_type": "code",
   "execution_count": 135,
   "id": "45236890-6533-482c-90b1-5c6b6b9720a3",
   "metadata": {},
   "outputs": [
    {
     "data": {
      "text/plain": [
       "12.489915785299825"
      ]
     },
     "execution_count": 135,
     "metadata": {},
     "output_type": "execute_result"
    }
   ],
   "source": [
    "median_absolute_error(y_test, y_pred)"
   ]
  },
  {
   "cell_type": "markdown",
   "id": "936c5002-5ff1-4818-8b16-bf99d7ce6037",
   "metadata": {},
   "source": [
    "### Predicted map visuzalization"
   ]
  },
  {
   "cell_type": "code",
   "execution_count": 136,
   "id": "42f63f80-87bd-4b38-bcee-2c7c4c8f4e78",
   "metadata": {},
   "outputs": [
    {
     "data": {
      "text/plain": [
       "(73, 64)"
      ]
     },
     "execution_count": 136,
     "metadata": {},
     "output_type": "execute_result"
    }
   ],
   "source": [
    "y_pred.shape"
   ]
  },
  {
   "cell_type": "code",
   "execution_count": 137,
   "id": "7a719f97-1997-44ff-8098-c9de09dea2aa",
   "metadata": {},
   "outputs": [
    {
     "data": {
      "text/plain": [
       "(73, 8, 8)"
      ]
     },
     "execution_count": 137,
     "metadata": {},
     "output_type": "execute_result"
    }
   ],
   "source": [
    "n_sample_test=y_pred.shape[0]\n",
    "width=8\n",
    "height=8\n",
    "\n",
    "y_pred_reshaped=np.zeros((n_sample_test,width,height),dtype='float32')\n",
    "\n",
    "for i in range(n_sample_test):\n",
    "    y_pred_reshaped[i]=y_pred[i].reshape(width,heigh)\n",
    "\n",
    "y_pred_reshaped.shape"
   ]
  },
  {
   "cell_type": "code",
   "execution_count": 138,
   "id": "fb414f01-553a-49e2-9d64-8424bec9b82a",
   "metadata": {},
   "outputs": [
    {
     "data": {
      "text/plain": [
       "(73, 128)"
      ]
     },
     "execution_count": 138,
     "metadata": {},
     "output_type": "execute_result"
    }
   ],
   "source": [
    "x_test.shape"
   ]
  },
  {
   "cell_type": "code",
   "execution_count": 139,
   "id": "532ef67f-d46d-490e-803f-b527c09e1dd3",
   "metadata": {},
   "outputs": [
    {
     "data": {
      "text/plain": [
       "(73, 2, 8, 8)"
      ]
     },
     "execution_count": 139,
     "metadata": {},
     "output_type": "execute_result"
    }
   ],
   "source": [
    "x_test_original=Normalized_Input[test_index]\n",
    "x_test_original.shape"
   ]
  },
  {
   "cell_type": "code",
   "execution_count": 142,
   "id": "e63390ff-6274-4986-9c77-482d55b80b40",
   "metadata": {},
   "outputs": [
    {
     "data": {
      "text/plain": [
       "(73, 8, 8)"
      ]
     },
     "execution_count": 142,
     "metadata": {},
     "output_type": "execute_result"
    }
   ],
   "source": [
    "y_test_original=output[test_index]\n",
    "y_test_original.shape"
   ]
  },
  {
   "cell_type": "code",
   "execution_count": 146,
   "id": "70bc4b37-3012-4bb9-90cd-f1ecdd8ffe7b",
   "metadata": {},
   "outputs": [
    {
     "data": {
      "image/png": "[encoded data removed]",
      "text/plain": [
       "<Figure size 1800x3000 with 4 Axes>"
      ]
     },
     "metadata": {},
     "output_type": "display_data"
    }
   ],
   "source": [
    "random_number=np.random.randint(0,y_pred_reshaped.shape[0]-1)\n",
    "time_step=x_test_original.shape[1]\n",
    "\n",
    "\n",
    "plt.figure(figsize=(6,10),dpi=300)\n",
    "\n",
    "for i in range(time_step+2):\n",
    "    \n",
    "    if i<time_step:\n",
    "        plt.subplot(1,time_step+2,i+1)\n",
    "        plt.imshow(x_test_original[random_number,i,:,:],cmap='jet')\n",
    "        plt.xticks([])\n",
    "        plt.yticks([])\n",
    "        plt.title('T: '+str(i+1))\n",
    "\n",
    "    if i==time_step:\n",
    "        \n",
    "        plt.subplot(1,time_step+2,i+1)\n",
    "        plt.imshow(y_test_original[random_number,:,:],cmap='jet')\n",
    "        plt.xticks([])\n",
    "        plt.yticks([])\n",
    "        plt.title('T: '+str(i+1)+str('Label'))\n",
    "\n",
    "    if i==time_step+1:\n",
    "        \n",
    "        plt.subplot(1,time_step+2,i+1)\n",
    "        plt.imshow(y_pred_reshaped[random_number,:,:],cmap='jet')\n",
    "        plt.xticks([])\n",
    "        plt.yticks([])\n",
    "        plt.title('T: '+str(i+1)+str('Predicted'))\n",
    "\n",
    "plt.show()    "
   ]
  },
  {
   "cell_type": "code",
   "execution_count": 154,
   "id": "b22d7088-b78a-4a3b-b353-ca3bb41973d3",
   "metadata": {},
   "outputs": [],
   "source": [
    "random_number=np.random.randint(0,y_pred_reshaped.shape[0]-1)\n",
    "\n",
    "\n",
    "plt.figure(figsize=(4,3),dpi=200)\n",
    "plt.plot(y_pred.flatten(),color='b',label='Prediction')\n",
    "plt.plot(y_test.flatten(),color='r',label='Label',alpha=0.3)\n",
    "plt.xlabel('Pixels')\n",
    "plt.ylabel('Demand')\n",
    "\n",
    "plt.legend()\n",
    "\n",
    "plt.show()"
   ]
  },
  {
   "cell_type": "code",
   "execution_count": 153,
   "id": "819323e8-92fa-4e37-8189-8dd45015bea2",
   "metadata": {},
   "outputs": [
    {
     "name": "stdout",
     "output_type": "stream",
     "text": [
      "Using matplotlib backend: <object object at 0x000001E510157590>\n",
      "Using matplotlib backend: QtAgg\n"
     ]
    }
   ],
   "source": [
    "%matplotlib\n",
    "%matplotlib"
   ]
  },
  {
   "cell_type": "code",
   "execution_count": 151,
   "id": "fc0b27c1-45ae-465b-a8b2-569f7fd6453f",
   "metadata": {},
   "outputs": [
    {
     "data": {
      "text/plain": [
       "(4672,)"
      ]
     },
     "execution_count": 151,
     "metadata": {},
     "output_type": "execute_result"
    }
   ],
   "source": [
    "y_pred.flatten().shape"
   ]
  },
  {
   "cell_type": "code",
   "execution_count": null,
   "id": "2f2d959a-b787-4b5f-95ae-c8c98522ff7c",
   "metadata": {},
   "outputs": [],
   "source": []
  },
  {
   "cell_type": "code",
   "execution_count": null,
   "id": "51f4b305-0a6e-4e2a-a9fa-90aaa0a49168",
   "metadata": {},
   "outputs": [],
   "source": []
  },
  {
   "cell_type": "code",
   "execution_count": null,
   "id": "2941f1e7-5b3c-4f38-b99b-bf56cf57e872",
   "metadata": {},
   "outputs": [],
   "source": []
  },
  {
   "cell_type": "code",
   "execution_count": null,
   "id": "edd0a75f-fd73-4b29-aa9c-a429a45de06e",
   "metadata": {},
   "outputs": [],
   "source": []
  }
 ],
 "metadata": {
  "kernelspec": {
   "display_name": "Python 3 (ipykernel)",
   "language": "python",
   "name": "python3"
  },
  "language_info": {
   "codemirror_mode": {
    "name": "ipython",
    "version": 3
   },
   "file_extension": ".py",
   "mimetype": "text/x-python",
   "name": "python",
   "nbconvert_exporter": "python",
   "pygments_lexer": "ipython3",
   "version": "3.11.3"
  }
 },
 "nbformat": 4,
 "nbformat_minor": 5
}
