{
 "cells": [
  {
   "cell_type": "markdown",
   "id": "92621fb8-4a78-43c4-931f-ebe7ad3219ba",
   "metadata": {},
   "source": [
    "<center><img src=\"picture.jpg\" width=\"600\" height=\"500\" /></center>"
   ]
  },
  {
   "cell_type": "markdown",
   "id": "fa09ebfa-7a30-4cb7-8f8a-b1878332802a",
   "metadata": {},
   "source": [
    "# Reading and accessing raster datasets"
   ]
  },
  {
   "cell_type": "markdown",
   "id": "8a54bdc1-061c-4c2b-948e-7e884a01d77e",
   "metadata": {},
   "source": [
    "GDAL (Geospatial Data Abstraction Library) is an open-source library for reading, writing, and manipulating geospatial data formats. It provides a set of tools and functions that allow developers to work with various raster and vector geospatial data formats. GDAL supports a wide range of formats such as GeoTIFF, ESRI Shapefile, NetCDF, HDF, JPEG, and many others.\n",
    "\n",
    "Here are some key features and capabilities of GDAL:\n",
    "\n",
    "Format Support: GDAL supports over 150 different geospatial data formats, allowing users to read and write data in various formats seamlessly.\n",
    "\n",
    "Data Transformation and Processing: GDAL provides a rich set of functions for data transformation and processing. It enables tasks such as geometric transformations, reprojections, resampling, pixel value manipulation, subsetting, and mosaicking of raster datasets.\n",
    "\n",
    "Vector Data Handling: In addition to raster data, GDAL also supports working with vector data in formats like Shapefile, MapInfo, and KML. It allows users to read, write, and perform operations on vector geometries and attributes.\n",
    "\n",
    "Georeferencing and Coordinate Systems: GDAL includes functionality for handling coordinate systems and performing georeferencing tasks. It enables conversion between different coordinate reference systems (CRS), defining and modifying projection parameters, and performing datum transformations.\n",
    "\n",
    "API and Language Bindings: GDAL provides a C/C++ API for developers who want to directly interact with the library. Additionally, it offers language bindings for Python, Java, and several other programming languages, making it accessible to a broader user base.\n",
    "\n",
    "Extensibility: GDAL is designed to be extensible, allowing developers to create custom formats, algorithms, and plugins. This extensibility enables the integration of GDAL into a variety of software applications and workflows.\n",
    "\n",
    "Overall, GDAL is a powerful and widely used library for working with geospatial data. Its versatility, extensive format support, and rich set of functions make it a popular choice for developers, researchers, and GIS professionals in various domains such as remote sensing, cartography, and spatial analysis."
   ]
  },
  {
   "cell_type": "markdown",
   "id": "6b1ff954-1cae-4720-b024-046df757ff82",
   "metadata": {},
   "source": [
    "# Reading and accessing raster datasets"
   ]
  },
  {
   "cell_type": "code",
   "execution_count": 1,
   "id": "e7e23494-bc78-4f9b-b723-7382a07e29fb",
   "metadata": {},
   "outputs": [],
   "source": [
    "from osgeo import gdal\n",
    "\n",
    "# Open the raster dataset\n",
    "dataset = gdal.Open('E:/Deep Course/Weeks/W2/Mohammad/Data/r_2017_112.tif')\n",
    "\n",
    "# Get information about the dataset\n",
    "width = dataset.RasterXSize\n",
    "height = dataset.RasterYSize\n",
    "num_bands = dataset.RasterCount\n",
    "projection = dataset.GetProjection()\n",
    "\n",
    "# Accessing individual bands\n",
    "band = dataset.GetRasterBand(1)\n",
    "data = band.ReadAsArray()"
   ]
  },
  {
   "cell_type": "code",
   "execution_count": 6,
   "id": "850a3391-eea8-46bc-ac7b-c4aa338f835a",
   "metadata": {},
   "outputs": [
    {
     "data": {
      "text/plain": [
       "(3466,\n",
       " 1315,\n",
       " 1,\n",
       " 'GEOGCS[\"WGS 84\",DATUM[\"WGS_1984\",SPHEROID[\"WGS 84\",6378137,298.257223563,AUTHORITY[\"EPSG\",\"7030\"]],AUTHORITY[\"EPSG\",\"6326\"]],PRIMEM[\"Greenwich\",0,AUTHORITY[\"EPSG\",\"8901\"]],UNIT[\"degree\",0.0174532925199433,AUTHORITY[\"EPSG\",\"9122\"]],AXIS[\"Latitude\",NORTH],AXIS[\"Longitude\",EAST],AUTHORITY[\"EPSG\",\"4326\"]]')"
      ]
     },
     "execution_count": 6,
     "metadata": {},
     "output_type": "execute_result"
    }
   ],
   "source": [
    "width,height,num_bands,projection"
   ]
  },
  {
   "cell_type": "code",
   "execution_count": 8,
   "id": "f954b57d-6948-4c35-b1cf-35cd6ee60a2d",
   "metadata": {},
   "outputs": [
    {
     "data": {
      "text/plain": [
       "(1315, 3466)"
      ]
     },
     "execution_count": 8,
     "metadata": {},
     "output_type": "execute_result"
    }
   ],
   "source": [
    "data.shape"
   ]
  },
  {
   "cell_type": "markdown",
   "id": "0b4693a9-c296-4cf5-8883-1503decad66f",
   "metadata": {},
   "source": [
    "To get the pixel size from a GDAL dataset in Python, you can retrieve the geotransform information using the following code:"
   ]
  },
  {
   "cell_type": "code",
   "execution_count": 9,
   "id": "fbccd6c1-a665-458c-bd71-f51eef74bd1c",
   "metadata": {},
   "outputs": [
    {
     "data": {
      "text/plain": [
       "(-142.343256549684,\n",
       " 0.000150000000000002,\n",
       " 0.0,\n",
       " 68.396278534205,\n",
       " 0.0,\n",
       " -0.00014999999999999757)"
      ]
     },
     "execution_count": 9,
     "metadata": {},
     "output_type": "execute_result"
    }
   ],
   "source": [
    "# Get the geotransform information\n",
    "geotransform = dataset.GetGeoTransform()\n",
    "geotransform"
   ]
  },
  {
   "cell_type": "markdown",
   "id": "027cb3fb-33c6-4039-aec1-72f3d4291c39",
   "metadata": {},
   "source": [
    "In the code snippet provided, the elements of the geotransform are as follows:\n",
    "\n",
    "Element [0]: The x-coordinate of the upper-left corner of the top-left pixel.\n",
    "\n",
    "Element [1]: The width of a pixel in the x-direction.\n",
    "\n",
    "Element [2]: The rotation (typically zero) representing any skew in the x-direction.\n",
    "\n",
    "Element [3]: The y-coordinate of the upper-left corner of the top-left pixel.\n",
    "\n",
    "Element [4]: The rotation (typically zero) representing any skew in the y-direction.\n",
    "\n",
    "Element [5]: The height of a pixel in the y-direction. It is usually represented as a negative value since the y-coordinate increases downward."
   ]
  },
  {
   "cell_type": "markdown",
   "id": "29c00cbe-cd94-4f63-a88b-8d69572e1576",
   "metadata": {},
   "source": [
    "# Operations"
   ]
  },
  {
   "cell_type": "code",
   "execution_count": 10,
   "id": "39daf28b-e851-44e2-86c8-d30451f2032b",
   "metadata": {},
   "outputs": [
    {
     "data": {
      "text/plain": [
       "<osgeo.gdal.Dataset; proxy of <Swig Object of type 'GDALDatasetShadow *' at 0x000001B6FF51D500> >"
      ]
     },
     "execution_count": 10,
     "metadata": {},
     "output_type": "execute_result"
    }
   ],
   "source": [
    "# Open a raster dataset\n",
    "raster_path = 'E:/Deep Course/Weeks/W2/Mohammad/Data/r_2017_112.tif'\n",
    "raster_dataset = gdal.Open(raster_path)\n",
    "\n",
    "out_path='Test1.tif'\n",
    "# Cropping a raster\n",
    "xoff, yoff, xsize, ysize = 100, 100, 500, 500\n",
    "gdal.Translate(out_path, raster_dataset, srcWin=[xoff, yoff, xsize, ysize])"
   ]
  },
  {
   "cell_type": "markdown",
   "id": "1aec6387-1008-4fc2-bff9-7bd9e8a1ce7b",
   "metadata": {},
   "source": [
    "performs a systematic extraction of patches from a given TIFF image file and saves them as separate files in the specified output directory."
   ]
  },
  {
   "cell_type": "code",
   "execution_count": 13,
   "id": "26b9a1c9-e5a7-4d62-b72f-1d5db3eaa836",
   "metadata": {},
   "outputs": [],
   "source": [
    "import os\n",
    "\n",
    "# Define the patch size and the stride between patches\n",
    "patch_size = 32\n",
    "stride = 32\n",
    "\n",
    "input_file = 'E:/Deep Course/Weeks/W2/Mohammad/Data/r_2017_112.tif'\n",
    "output_dir = 'E:/Deep Course/Weeks/W2/Mohammad/Data/Patches/'\n",
    "\n",
    "# Open the tif file\n",
    "ds = gdal.Open(input_file)\n",
    "\n",
    "# Get the size of the input image\n",
    "width = ds.RasterXSize\n",
    "height = ds.RasterYSize\n",
    "\n",
    "# Calculate the number of patches in each dimension based on the patch size and stride\n",
    "num_patches_y = (height - patch_size) // stride + 1\n",
    "num_patches_x = (width - patch_size) // stride + 1\n",
    "\n",
    "# Create the output directory if it doesn't exist\n",
    "if not os.path.exists(output_dir):\n",
    "    os.makedirs(output_dir)\n",
    "\n",
    "# Loop over all possible patch starting positions and extract each patch\n",
    "for i in range(0, num_patches_y+1):\n",
    "    for j in range(0, num_patches_x+1):\n",
    "        \n",
    "        # Calculate the offset of the current patch\n",
    "        x_offset = j * stride\n",
    "        y_offset = i * stride\n",
    "        \n",
    "        patch_name = f\"patch_{i}_{j}.tif\"\n",
    "        patch_path = os.path.join(output_dir, patch_name)\n",
    "        gdal.Translate(patch_path, ds, srcWin=[x_offset, y_offset, patch_size, patch_size])"
   ]
  },
  {
   "cell_type": "markdown",
   "id": "500e2a51-6a18-4bda-99f6-eeb76fc08465",
   "metadata": {},
   "source": [
    "# Export a matrix in tif format"
   ]
  },
  {
   "cell_type": "code",
   "execution_count": 17,
   "id": "6c7b6e53-487f-4f50-a7d6-d2e50a938107",
   "metadata": {},
   "outputs": [],
   "source": [
    "import numpy as np\n",
    "\n"
   ]
  },
  {
   "cell_type": "code",
   "execution_count": 18,
   "id": "7051dcc2-cfe6-4c45-8a0f-9a7cdf336ac1",
   "metadata": {},
   "outputs": [
    {
     "data": {
      "text/plain": [
       "(1315, 3466)"
      ]
     },
     "execution_count": 18,
     "metadata": {},
     "output_type": "execute_result"
    }
   ],
   "source": [
    "# Open a raster dataset\n",
    "raster_path = 'E:/Deep Course/Weeks/W2/Mohammad/Data/r_2017_112.tif'\n",
    "ds = gdal.Open(raster_path)\n",
    "raster_dataset=ds.ReadAsArray()\n",
    "raster_dataset.shape"
   ]
  },
  {
   "cell_type": "markdown",
   "id": "a27aa102-cb37-4ec3-ad07-02d56c7b57c8",
   "metadata": {},
   "source": [
    "# Export a matrix to tif fromat"
   ]
  },
  {
   "cell_type": "code",
   "execution_count": 19,
   "id": "f80d5323-6d03-4e8c-862d-ba7a72cb72d6",
   "metadata": {},
   "outputs": [],
   "source": [
    "matrix=np.zeros_like(raster_dataset)\n",
    "\n",
    "output_file = 'Test2.tif'\n",
    "\n",
    "# Create a new GeoTIFF file for the output data\n",
    "driver = gdal.GetDriverByName(\"GTiff\")\n",
    "output_geotiff = driver.Create(output_file, matrix.shape[1], matrix.shape[0], 1, gdal.GDT_Float32)\n",
    "\n",
    "\n",
    "# Set the projection and geotransform from one of the input files (e.g. geotiff_1)\n",
    "output_geotiff.SetProjection(ds.GetProjection())\n",
    "output_geotiff.SetGeoTransform(ds.GetGeoTransform())\n",
    "\n",
    "# Write the output data to the file\n",
    "output_geotiff.GetRasterBand(1).WriteArray(matrix)\n",
    "\n",
    "# Close the output GeoTIFF file\n",
    "output_geotiff = None"
   ]
  },
  {
   "cell_type": "code",
   "execution_count": 14,
   "id": "c493dad3-1646-4f54-a7fc-6b5be0748288",
   "metadata": {},
   "outputs": [
    {
     "data": {
      "text/plain": [
       "'GEOGCS[\"WGS 84\",DATUM[\"WGS_1984\",SPHEROID[\"WGS 84\",6378137,298.257223563,AUTHORITY[\"EPSG\",\"7030\"]],AUTHORITY[\"EPSG\",\"6326\"]],PRIMEM[\"Greenwich\",0,AUTHORITY[\"EPSG\",\"8901\"]],UNIT[\"degree\",0.0174532925199433,AUTHORITY[\"EPSG\",\"9122\"]],AXIS[\"Latitude\",NORTH],AXIS[\"Longitude\",EAST],AUTHORITY[\"EPSG\",\"4326\"]]'"
      ]
     },
     "execution_count": 14,
     "metadata": {},
     "output_type": "execute_result"
    }
   ],
   "source": [
    "ds.GetProjection()"
   ]
  },
  {
   "cell_type": "code",
   "execution_count": 15,
   "id": "19314a67-913e-45ed-b299-1a05b692e21a",
   "metadata": {},
   "outputs": [
    {
     "data": {
      "text/plain": [
       "(-142.343256549684,\n",
       " 0.000150000000000002,\n",
       " 0.0,\n",
       " 68.396278534205,\n",
       " 0.0,\n",
       " -0.00014999999999999757)"
      ]
     },
     "execution_count": 15,
     "metadata": {},
     "output_type": "execute_result"
    }
   ],
   "source": [
    "ds.GetGeoTransform()"
   ]
  },
  {
   "cell_type": "code",
   "execution_count": null,
   "id": "8120013e-f91c-468d-8d39-72bc077b1884",
   "metadata": {},
   "outputs": [],
   "source": []
  }
 ],
 "metadata": {
  "kernelspec": {
   "display_name": "Python 3 (ipykernel)",
   "language": "python",
   "name": "python3"
  },
  "language_info": {
   "codemirror_mode": {
    "name": "ipython",
    "version": 3
   },
   "file_extension": ".py",
   "mimetype": "text/x-python",
   "name": "python",
   "nbconvert_exporter": "python",
   "pygments_lexer": "ipython3",
   "version": "3.11.3"
  }
 },
 "nbformat": 4,
 "nbformat_minor": 5
}
